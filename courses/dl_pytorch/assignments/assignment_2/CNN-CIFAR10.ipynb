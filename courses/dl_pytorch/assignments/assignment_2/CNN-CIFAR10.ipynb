{
 "cells": [
  {
   "cell_type": "markdown",
   "metadata": {
    "deletable": false,
    "editable": false,
    "nbgrader": {
     "grade": false,
     "locked": true,
     "solution": false
    }
   },
   "source": [
    "# <font style=\"color:blue\">Assignment: Implement a CNN for Image Classification on CIFAR10 dataset</font>\n",
    "\n",
    "We have seen how to implement a CNN (LeNet5 and LeNet with the batch norm) in the last section. We used MNIST and Fashion MNIST dataset which are grayscale or single channel datasets. In this assignment, you will implement a CNN Model ( similar to LeNet ) for classifying objects in the `CIFAR10` dataset. \n",
    "\n",
    "The CIFAR10 dataset has the following properties\n",
    "1. It has `10` classes.  \n",
    "1. It has colored images, so it has `3-channels`. \n",
    "1. The image shape is `32 x 32`.\n",
    "\n",
    "Samples of CIFAR10- dataset ([source](https://pytorch.org/tutorials/beginner/blitz/cifar10_tutorial.html?highlight=cifar)):\n",
    "\n",
    "<img src=\"https://www.learnopencv.com/wp-content/uploads/2020/01/c3_w3_cirar10.png\" width=700>\n",
    "\n",
    "\n",
    "# <font color='blue'>Marking Scheme</font>\n",
    "\n",
    "### <font style=\"color:green\">Maximum Points: 30\n",
    "\n",
    "<div>\n",
    "    <table>\n",
    "        <tr><td><h3>Sr. no.</h3></td> <td><h3>Problem</h3></td> <td><h3>Points</h3></td> </tr>\n",
    "        <tr><td><h3>1</h3></td> <td><h3>Implement the CNN Model</h3></td> <td><h3>10</h3></td> </tr>\n",
    "        <tr><td><h3>2</h3></td> <td><h3>Find Mean and Std of Training Data</h3></td> <td><h3>5</h3></td> </tr>\n",
    "        <tr><td><h3>3</h3></td> <td><h3>Model Training & Accuracy</h3></td> <td><h3>15</h3></td> </tr>\n",
    "    </table>\n",
    "</div>\n",
    "\n",
    "\n",
    "# <font color='blue'>Problem Description</font>\n",
    "\n",
    "### <font color='blue'>1. Implement the CNN Model</font>\n",
    "Since the task is to classify objects in a dataset of color images, you need to implement a CNN with 10 output classes. **Also, your model must use `Conv2d`, `BatchNorm2d`, and `ReLU`.** \n",
    "\n",
    "**You need to define the model architecture in the function: `MyModel` ( Step 1 )**\n",
    "\n",
    "Hint: For color images you need to use an input shape that is different than the ones we have been using till now, so that it accepts 3 channel inputs.\n",
    "\n",
    "### <font color='blue'>2. Find Mean and Std of Training Data</font>\n",
    "\n",
    "It is a good practice to normalize the training data. To normalize the data, we need to compute mean and std. As the dataset has colored images, it has `3-channel` (RGB or BGR). We have to find mean and std per channel using training data. \n",
    "\n",
    "**You need to compute the mean and std for the dataset in the function: `get_mean_std_train_data` ( Step 3 )**\n",
    "\n",
    "### <font color='blue'>3. Model Training and Accuracy</font>\n",
    "\n",
    "Once you have defined the model, you can train it. To get better accuracy, you need to play around the training configuration **( Step 5 )** and even the model architecture. You can check the accuracy by running the training loop in `Step 11`.\n",
    "\n",
    "Here are a few hints on how you can improve the accuracy:\n",
    "- Train for longer duration\n",
    "- Try with different learning rate\n",
    "- Try to add more convolutional layers to the architecture\n",
    "- Try to add more nodes in the layers.\n",
    "\n",
    "You need to achieve **75% accuracy** ( See Step11 ) in order to get full marks for this part. \n",
    "\n",
    "**You do not need to implement anything for this, just changing the parameters as mentioned above and running the Notebook will give you the accuracy. ( Step 5 and Step 11 )**"
   ]
  },
  {
   "cell_type": "code",
   "execution_count": 1,
   "metadata": {
    "collapsed": true,
    "deletable": false,
    "editable": false,
    "nbgrader": {
     "grade": false,
     "locked": true,
     "solution": false
    }
   },
   "outputs": [],
   "source": [
    "required_training = True"
   ]
  },
  {
   "cell_type": "code",
   "execution_count": 2,
   "metadata": {
    "collapsed": true,
    "deletable": false,
    "editable": false,
    "nbgrader": {
     "grade": false,
     "locked": true,
     "solution": false
    }
   },
   "outputs": [],
   "source": [
    "%matplotlib inline"
   ]
  },
  {
   "cell_type": "code",
   "execution_count": 3,
   "metadata": {
    "collapsed": true,
    "deletable": false,
    "editable": false,
    "nbgrader": {
     "grade": false,
     "locked": true,
     "solution": false
    }
   },
   "outputs": [],
   "source": [
    "import matplotlib.pyplot as plt  # one of the best graphics library for python"
   ]
  },
  {
   "cell_type": "code",
   "execution_count": 4,
   "metadata": {
    "collapsed": true,
    "deletable": false,
    "editable": false,
    "nbgrader": {
     "grade": false,
     "locked": true,
     "solution": false
    }
   },
   "outputs": [],
   "source": [
    "import os\n",
    "import time\n",
    "\n",
    "from typing import Iterable\n",
    "from dataclasses import dataclass\n",
    "\n",
    "import numpy as np\n",
    "import torch\n",
    "import torch.nn as nn\n",
    "import torch.optim as optim\n",
    "import torch.nn.functional as F\n",
    "\n",
    "from torchvision import datasets, transforms\n",
    "import torchvision"
   ]
  },
  {
   "cell_type": "markdown",
   "metadata": {},
   "source": [
    "# <font style=\"color:blue\">1. CNN Model Architecture [10 Points]</font>\n",
    "\n",
    "You have to write the model code here. You can take reference from LeNet code.\n",
    "\n",
    "If you do not get higher accuracy, here are a few hints:\n",
    "- Try to add more convolutional layers to the architecture\n",
    "- Try to add more nodes in the layers.\n"
   ]
  },
  {
   "cell_type": "code",
   "execution_count": 5,
   "metadata": {
    "collapsed": true
   },
   "outputs": [],
   "source": [
    "class MyModel(nn.Module):\n",
    "    def __init__(self):\n",
    "        super().__init__()\n",
    "\n",
    "        ###\n",
    "        self.conv_layer = nn.Sequential(\n",
    "\n",
    "            # Conv Layer block 1\n",
    "            nn.Conv2d(in_channels=3, out_channels=32, kernel_size=3, padding=1),\n",
    "            nn.BatchNorm2d(32),\n",
    "            nn.ReLU(inplace=True),\n",
    "            nn.Conv2d(in_channels=32, out_channels=64, kernel_size=3, padding=1),\n",
    "            nn.ReLU(inplace=True),\n",
    "            nn.MaxPool2d(kernel_size=2, stride=2),\n",
    "\n",
    "            # Conv Layer block 2\n",
    "            nn.Conv2d(in_channels=64, out_channels=128, kernel_size=3, padding=1),\n",
    "            nn.BatchNorm2d(128),\n",
    "            nn.ReLU(inplace=True),\n",
    "            nn.Conv2d(in_channels=128, out_channels=128, kernel_size=3, padding=1),\n",
    "            nn.ReLU(inplace=True),\n",
    "            nn.MaxPool2d(kernel_size=2, stride=2),\n",
    "            nn.Dropout2d(p=0.05),\n",
    "\n",
    "            # Conv Layer block 3\n",
    "            nn.Conv2d(in_channels=128, out_channels=256, kernel_size=3, padding=1),\n",
    "            nn.BatchNorm2d(256),\n",
    "            nn.ReLU(inplace=True),\n",
    "            nn.Conv2d(in_channels=256, out_channels=256, kernel_size=3, padding=1),\n",
    "            nn.ReLU(inplace=True),\n",
    "            nn.MaxPool2d(kernel_size=2, stride=2),\n",
    "        )\n",
    "\n",
    "\n",
    "        self.fc_layer = nn.Sequential(            \n",
    "            nn.Linear(4096, 1024),\n",
    "            nn.ReLU(inplace=True),\n",
    "            nn.Linear(1024, 512),\n",
    "            nn.ReLU(inplace=True),            \n",
    "            nn.Linear(512, 10)\n",
    "        )\n",
    "        \n",
    "        ###\n",
    "        \n",
    "    def forward(self, x):\n",
    "        ###\n",
    "        # conv layers\n",
    "        x = self.conv_layer(x)\n",
    "        \n",
    "        # flatten\n",
    "        x = x.view(x.size(0), -1)\n",
    "        \n",
    "        # fc layer\n",
    "        x = self.fc_layer(x)\n",
    "        ###\n",
    "        \n",
    "        return x"
   ]
  },
  {
   "cell_type": "markdown",
   "metadata": {
    "deletable": false,
    "editable": false,
    "nbgrader": {
     "grade": false,
     "locked": true,
     "solution": false
    }
   },
   "source": [
    "# <font style=\"color:blue\">2. Display the Network</font>"
   ]
  },
  {
   "cell_type": "code",
   "execution_count": 6,
   "metadata": {
    "deletable": false,
    "editable": false,
    "nbgrader": {
     "grade": false,
     "locked": true,
     "solution": false
    }
   },
   "outputs": [
    {
     "name": "stdout",
     "output_type": "stream",
     "text": [
      "MyModel(\n",
      "  (conv_layer): Sequential(\n",
      "    (0): Conv2d(3, 32, kernel_size=(3, 3), stride=(1, 1), padding=(1, 1))\n",
      "    (1): BatchNorm2d(32, eps=1e-05, momentum=0.1, affine=True, track_running_stats=True)\n",
      "    (2): ReLU(inplace=True)\n",
      "    (3): Conv2d(32, 64, kernel_size=(3, 3), stride=(1, 1), padding=(1, 1))\n",
      "    (4): ReLU(inplace=True)\n",
      "    (5): MaxPool2d(kernel_size=2, stride=2, padding=0, dilation=1, ceil_mode=False)\n",
      "    (6): Conv2d(64, 128, kernel_size=(3, 3), stride=(1, 1), padding=(1, 1))\n",
      "    (7): BatchNorm2d(128, eps=1e-05, momentum=0.1, affine=True, track_running_stats=True)\n",
      "    (8): ReLU(inplace=True)\n",
      "    (9): Conv2d(128, 128, kernel_size=(3, 3), stride=(1, 1), padding=(1, 1))\n",
      "    (10): ReLU(inplace=True)\n",
      "    (11): MaxPool2d(kernel_size=2, stride=2, padding=0, dilation=1, ceil_mode=False)\n",
      "    (12): Dropout2d(p=0.05, inplace=False)\n",
      "    (13): Conv2d(128, 256, kernel_size=(3, 3), stride=(1, 1), padding=(1, 1))\n",
      "    (14): BatchNorm2d(256, eps=1e-05, momentum=0.1, affine=True, track_running_stats=True)\n",
      "    (15): ReLU(inplace=True)\n",
      "    (16): Conv2d(256, 256, kernel_size=(3, 3), stride=(1, 1), padding=(1, 1))\n",
      "    (17): ReLU(inplace=True)\n",
      "    (18): MaxPool2d(kernel_size=2, stride=2, padding=0, dilation=1, ceil_mode=False)\n",
      "  )\n",
      "  (fc_layer): Sequential(\n",
      "    (0): Linear(in_features=4096, out_features=1024, bias=True)\n",
      "    (1): ReLU(inplace=True)\n",
      "    (2): Linear(in_features=1024, out_features=512, bias=True)\n",
      "    (3): ReLU(inplace=True)\n",
      "    (4): Linear(in_features=512, out_features=10, bias=True)\n",
      "  )\n",
      ")\n"
     ]
    }
   ],
   "source": [
    "my_model = MyModel()\n",
    "print(my_model)"
   ]
  },
  {
   "cell_type": "code",
   "execution_count": 7,
   "metadata": {
    "collapsed": true,
    "deletable": false,
    "editable": false,
    "nbgrader": {
     "grade": true,
     "grade_id": "Conv2d",
     "locked": true,
     "points": "3",
     "solution": false
    }
   },
   "outputs": [],
   "source": [
    "###\n",
    "### AUTOGRADER TEST - DO NOT REMOVE\n",
    "###\n"
   ]
  },
  {
   "cell_type": "code",
   "execution_count": 8,
   "metadata": {
    "collapsed": true,
    "deletable": false,
    "editable": false,
    "nbgrader": {
     "grade": true,
     "grade_id": "BatchNorm2d",
     "locked": true,
     "points": "2",
     "solution": false
    }
   },
   "outputs": [],
   "source": [
    "###\n",
    "### AUTOGRADER TEST - DO NOT REMOVE\n",
    "###\n"
   ]
  },
  {
   "cell_type": "code",
   "execution_count": 9,
   "metadata": {
    "collapsed": true,
    "deletable": false,
    "editable": false,
    "nbgrader": {
     "grade": true,
     "grade_id": "ReLU",
     "locked": true,
     "points": "2",
     "solution": false
    }
   },
   "outputs": [],
   "source": [
    "###\n",
    "### AUTOGRADER TEST - DO NOT REMOVE\n",
    "###\n"
   ]
  },
  {
   "cell_type": "code",
   "execution_count": 10,
   "metadata": {
    "collapsed": true,
    "deletable": false,
    "editable": false,
    "nbgrader": {
     "grade": true,
     "grade_id": "input-output",
     "locked": true,
     "points": "3",
     "solution": false
    }
   },
   "outputs": [],
   "source": [
    "###\n",
    "### AUTOGRADER TEST - DO NOT REMOVE\n",
    "###\n"
   ]
  },
  {
   "cell_type": "markdown",
   "metadata": {
    "deletable": false,
    "editable": false,
    "lines_to_next_cell": 2,
    "nbgrader": {
     "grade": false,
     "locked": true,
     "solution": false
    }
   },
   "source": [
    "# <font style=\"color:blue\">3. Find Mean and STD of CIFAR10 Data [5 Points]</font>\n",
    "\n",
    "Function **`get_mean_std_train_data`** should `return` `mean` and `std` of training data. You can refer to the code used in the previous section for finding the mean and std of the training data.\n",
    "\n"
   ]
  },
  {
   "cell_type": "code",
   "execution_count": 11,
   "metadata": {
    "nbgrader": {
     "grade": false,
     "locked": false,
     "solution": false
    }
   },
   "outputs": [],
   "source": [
    "def get_mean_std_train_data(data_root):\n",
    "    \n",
    "    train_transform = transforms.Compose([transforms.ToTensor()])\n",
    "    train_set = datasets.CIFAR10(root=data_root, train=True, download=False, transform=train_transform)\n",
    "    \n",
    "    # return mean (numpy.ndarray) and std (numpy.ndarray)\n",
    "    mean = np.array([0.5, 0.5, 0.5])\n",
    "    std = np.array([0.5, 0.5, 0.5])\n",
    "    \n",
    "    ###\n",
    "    \n",
    "    mean = train_set.data.mean(axis=(0, 1, 2)) / 255\n",
    "    std = train_set.data.std(axis=(0, 1, 2)) /255     \n",
    "        \n",
    "    ###\n",
    "    \n",
    "    return mean, std"
   ]
  },
  {
   "cell_type": "code",
   "execution_count": 12,
   "metadata": {
    "collapsed": true,
    "deletable": false,
    "editable": false,
    "lines_to_next_cell": 2,
    "nbgrader": {
     "grade": true,
     "grade_id": "mean",
     "locked": true,
     "points": "2",
     "solution": false
    }
   },
   "outputs": [],
   "source": [
    "###\n",
    "### AUTOGRADER TEST - DO NOT REMOVE\n",
    "###\n"
   ]
  },
  {
   "cell_type": "code",
   "execution_count": 13,
   "metadata": {
    "collapsed": true,
    "deletable": false,
    "editable": false,
    "lines_to_next_cell": 2,
    "nbgrader": {
     "grade": true,
     "grade_id": "std",
     "locked": true,
     "points": "3",
     "solution": false
    }
   },
   "outputs": [],
   "source": [
    "###\n",
    "### AUTOGRADER TEST - DO NOT REMOVE\n",
    "###\n"
   ]
  },
  {
   "cell_type": "code",
   "execution_count": 14,
   "metadata": {
    "collapsed": true,
    "deletable": false,
    "editable": false,
    "nbgrader": {
     "grade": false,
     "locked": true,
     "solution": false
    }
   },
   "outputs": [],
   "source": [
    "def get_data(batch_size, data_root, num_workers=1):\n",
    "    \n",
    "    \n",
    "    try:\n",
    "        mean, std = get_mean_std_train_data(data_root)\n",
    "        assert len(mean) == len(std) == 3\n",
    "    except:\n",
    "        mean = np.array([0.5, 0.5, 0.5])\n",
    "        std = np.array([0.5, 0.5, 0.5])\n",
    "        \n",
    "    \n",
    "    train_test_transforms = transforms.Compose([\n",
    "        # this re-scale image tensor values between 0-1. image_tensor /= 255\n",
    "        transforms.ToTensor(),\n",
    "        # subtract mean and divide by variance.\n",
    "        transforms.Normalize(mean, std)\n",
    "    ])\n",
    "    \n",
    "    # train dataloader\n",
    "    train_loader = torch.utils.data.DataLoader(\n",
    "        datasets.CIFAR10(root=data_root, train=True, download=False, transform=train_test_transforms),\n",
    "        batch_size=batch_size,\n",
    "        shuffle=True,\n",
    "        num_workers=num_workers\n",
    "    )\n",
    "    \n",
    "    # test dataloader\n",
    "    test_loader = torch.utils.data.DataLoader(\n",
    "        datasets.CIFAR10(root=data_root, train=False, download=False, transform=train_test_transforms),\n",
    "        batch_size=batch_size,\n",
    "        shuffle=False,\n",
    "        num_workers=num_workers\n",
    "    )\n",
    "    return train_loader, test_loader"
   ]
  },
  {
   "cell_type": "markdown",
   "metadata": {
    "deletable": false,
    "editable": false,
    "nbgrader": {
     "grade": false,
     "locked": true,
     "solution": false
    }
   },
   "source": [
    "# <font style=\"color:blue\">4. System Configuration</font>\n"
   ]
  },
  {
   "cell_type": "code",
   "execution_count": 15,
   "metadata": {
    "collapsed": true,
    "deletable": false,
    "editable": false,
    "nbgrader": {
     "grade": false,
     "locked": true,
     "solution": false
    }
   },
   "outputs": [],
   "source": [
    "@dataclass\n",
    "class SystemConfiguration:\n",
    "    '''\n",
    "    Describes the common system setting needed for reproducible training\n",
    "    '''\n",
    "    seed: int = 42  # seed number to set the state of all random number generators\n",
    "    cudnn_benchmark_enabled: bool = True  # enable CuDNN benchmark for the sake of performance\n",
    "    cudnn_deterministic: bool = True  # make cudnn deterministic (reproducible training)"
   ]
  },
  {
   "cell_type": "markdown",
   "metadata": {
    "deletable": false,
    "editable": false,
    "nbgrader": {
     "grade": false,
     "locked": true,
     "solution": false
    }
   },
   "source": [
    "# <font style=\"color:blue\">5. Training Configuration [15 Points]</font>\n",
    "All training parameters are defined here. So, \n",
    "This is where you can improve your accuracy, apart from improving the architecture. \n",
    "\n",
    "Here are a few hints on how you can improve the accuracy:\n",
    "- Train for longer duration\n",
    "- Try with different learning rate\n",
    "\n",
    "**You need to achieve 75% accuracy in order to get full marks for this part.**\n",
    "\n",
    "**You will see the effect of these changes when you run Step 11**"
   ]
  },
  {
   "cell_type": "code",
   "execution_count": 16,
   "metadata": {
    "collapsed": true,
    "nbgrader": {
     "grade": false,
     "locked": false,
     "solution": false
    }
   },
   "outputs": [],
   "source": [
    "@dataclass\n",
    "class TrainingConfiguration:\n",
    "    '''\n",
    "    Describes configuration of the training process\n",
    "    '''\n",
    "    batch_size: int = 32  # amount of data to pass through the network at each forward-backward iteration\n",
    "    epochs_count: int = 30  # number of times the whole dataset will be passed through the network\n",
    "    learning_rate: float = 0.001  # determines the speed of network's weights update\n",
    "        \n",
    "    log_interval: int = 100  # how many batches to wait between logging training status\n",
    "    test_interval: int = 1  # how many epochs to wait before another test. Set to 1 to get val loss at each epoch\n",
    "    data_root: str = \"../resource/lib/publicdata/images\"  # folder to save data\n",
    "    num_workers: int = 10  # number of concurrent processes using to prepare data\n",
    "    device: str = 'cuda'  # device to use for training.\n",
    "    # update changed parameters in blow coding block.\n",
    "    # Please do not change \"data_root\" \n",
    "    \n",
    "    ###\n",
    "    ### YOUR CODE HERE\n",
    "    ###\n"
   ]
  },
  {
   "cell_type": "markdown",
   "metadata": {
    "deletable": false,
    "editable": false,
    "nbgrader": {
     "grade": false,
     "locked": true,
     "solution": false
    }
   },
   "source": [
    "# <font style=\"color:blue\">6. System Setup</font>\n"
   ]
  },
  {
   "cell_type": "code",
   "execution_count": 17,
   "metadata": {
    "collapsed": true,
    "deletable": false,
    "editable": false,
    "nbgrader": {
     "grade": false,
     "locked": true,
     "solution": false
    }
   },
   "outputs": [],
   "source": [
    "def setup_system(system_config: SystemConfiguration) -> None:\n",
    "    torch.manual_seed(system_config.seed)\n",
    "    if torch.cuda.is_available():\n",
    "        torch.backends.cudnn_benchmark_enabled = system_config.cudnn_benchmark_enabled\n",
    "        torch.backends.cudnn.deterministic = system_config.cudnn_deterministic"
   ]
  },
  {
   "cell_type": "markdown",
   "metadata": {
    "deletable": false,
    "editable": false,
    "nbgrader": {
     "grade": false,
     "locked": true,
     "solution": false
    }
   },
   "source": [
    "# <font style=\"color:blue\">7. Training</font>\n",
    "We are familiar with the training pipeline used in PyTorch. The following steps are performed in the code below:\n",
    "\n",
    "1. Send the data to the required device ( CPU/GPU )\n",
    "1. Make a forward pass using the forward method.\n",
    "1. Find the loss using the Cross_Entropy function.\n",
    "1. Find the gradients using the backward function.\n",
    "1. Update the weights using the optimizer.\n",
    "1. Find the accuracy of the model\n",
    "\n",
    "Repeat the above for the specified number of epochs."
   ]
  },
  {
   "cell_type": "code",
   "execution_count": 18,
   "metadata": {
    "collapsed": true,
    "deletable": false,
    "editable": false,
    "nbgrader": {
     "grade": false,
     "locked": true,
     "solution": false
    }
   },
   "outputs": [],
   "source": [
    "def train(\n",
    "    train_config: TrainingConfiguration, model: nn.Module, optimizer: torch.optim.Optimizer,\n",
    "    train_loader: torch.utils.data.DataLoader, epoch_idx: int\n",
    ") -> None:\n",
    "    \n",
    "    # change model in training mood\n",
    "    model.train()\n",
    "    \n",
    "    # to get batch loss\n",
    "    batch_loss = np.array([])\n",
    "    \n",
    "    # to get batch accuracy\n",
    "    batch_acc = np.array([])\n",
    "        \n",
    "    for batch_idx, (data, target) in enumerate(train_loader):\n",
    "        \n",
    "        # clone target\n",
    "        indx_target = target.clone()\n",
    "        # send data to device (its is medatory if GPU has to be used)\n",
    "        data = data.to(train_config.device)\n",
    "        # send target to device\n",
    "        target = target.to(train_config.device)\n",
    "\n",
    "        # reset parameters gradient to zero\n",
    "        optimizer.zero_grad()\n",
    "        \n",
    "        # forward pass to the model\n",
    "        output = model(data)\n",
    "        \n",
    "        # cross entropy loss\n",
    "        loss = F.cross_entropy(output, target)\n",
    "        \n",
    "        # find gradients w.r.t training parameters\n",
    "        loss.backward()\n",
    "        # Update parameters using gardients\n",
    "        optimizer.step()\n",
    "        \n",
    "        batch_loss = np.append(batch_loss, [loss.item()])\n",
    "        \n",
    "        # Score to probability using softmax\n",
    "        prob = F.softmax(output, dim=1)\n",
    "            \n",
    "        # get the index of the max probability\n",
    "        pred = prob.data.max(dim=1)[1]  \n",
    "                        \n",
    "        # correct prediction\n",
    "        correct = pred.cpu().eq(indx_target).sum()\n",
    "            \n",
    "        # accuracy\n",
    "        acc = float(correct) / float(len(data))\n",
    "        \n",
    "        batch_acc = np.append(batch_acc, [acc])\n",
    "\n",
    "        if batch_idx % train_config.log_interval == 0 and batch_idx > 0:              \n",
    "            print(\n",
    "                'Train Epoch: {} [{}/{}] Loss: {:.6f} Acc: {:.4f}'.format(\n",
    "                    epoch_idx, batch_idx * len(data), len(train_loader.dataset), loss.item(), acc\n",
    "                )\n",
    "            )\n",
    "            \n",
    "    epoch_loss = batch_loss.mean()\n",
    "    epoch_acc = batch_acc.mean()\n",
    "    return epoch_loss, epoch_acc"
   ]
  },
  {
   "cell_type": "markdown",
   "metadata": {
    "deletable": false,
    "editable": false,
    "nbgrader": {
     "grade": false,
     "locked": true,
     "solution": false
    }
   },
   "source": [
    "# <font style=\"color:blue\">8. Validation</font>\n",
    "\n",
    "After every few epochs **`validation`** will be called with the `trained model` and `test_loader` to get validation loss and accuracy."
   ]
  },
  {
   "cell_type": "code",
   "execution_count": 19,
   "metadata": {
    "collapsed": true,
    "deletable": false,
    "editable": false,
    "nbgrader": {
     "grade": false,
     "locked": true,
     "solution": false
    }
   },
   "outputs": [],
   "source": [
    "def validate(\n",
    "    train_config: TrainingConfiguration,\n",
    "    model: nn.Module,\n",
    "    test_loader: torch.utils.data.DataLoader,\n",
    ") -> float:\n",
    "    model.eval()\n",
    "    test_loss = 0\n",
    "    count_corect_predictions = 0\n",
    "    for data, target in test_loader:\n",
    "        indx_target = target.clone()\n",
    "        data = data.to(train_config.device)\n",
    "        \n",
    "        target = target.to(train_config.device)\n",
    "        \n",
    "        output = model(data)\n",
    "        # add loss for each mini batch\n",
    "        test_loss += F.cross_entropy(output, target).item()\n",
    "        \n",
    "        # Score to probability using softmax\n",
    "        prob = F.softmax(output, dim=1)\n",
    "        \n",
    "        # get the index of the max probability\n",
    "        pred = prob.data.max(dim=1)[1] \n",
    "        \n",
    "        # add correct prediction count\n",
    "        count_corect_predictions += pred.cpu().eq(indx_target).sum()\n",
    "\n",
    "    # average over number of mini-batches\n",
    "    test_loss = test_loss / len(test_loader)  \n",
    "    \n",
    "    # average over number of dataset\n",
    "    accuracy = 100. * count_corect_predictions / len(test_loader.dataset)\n",
    "    \n",
    "    print(\n",
    "        '\\nTest set: Average loss: {:.4f}, Accuracy: {}/{} ({:.0f}%)\\n'.format(\n",
    "            test_loss, count_corect_predictions, len(test_loader.dataset), accuracy\n",
    "        )\n",
    "    )\n",
    "    return test_loss, accuracy/100.0"
   ]
  },
  {
   "cell_type": "markdown",
   "metadata": {
    "deletable": false,
    "editable": false,
    "nbgrader": {
     "grade": false,
     "locked": true,
     "solution": false
    }
   },
   "source": [
    "# <font style=\"color:blue\">9. Saving the Model</font>"
   ]
  },
  {
   "cell_type": "code",
   "execution_count": 20,
   "metadata": {
    "collapsed": true,
    "deletable": false,
    "editable": false,
    "nbgrader": {
     "grade": false,
     "locked": true,
     "solution": false
    }
   },
   "outputs": [],
   "source": [
    "def save_model(model, device, model_dir='models', model_file_name='cifar10_cnn_model.pt'):\n",
    "    \n",
    "\n",
    "    if not os.path.exists(model_dir):\n",
    "        os.makedirs(model_dir)\n",
    "\n",
    "    model_path = os.path.join(model_dir, model_file_name)\n",
    "\n",
    "    # make sure you transfer the model to cpu.\n",
    "    if device == 'cuda':\n",
    "        model.to('cpu')\n",
    "\n",
    "    # save the state_dict\n",
    "    torch.save(model.state_dict(), model_path)\n",
    "    \n",
    "    if device == 'cuda':\n",
    "        model.to('cuda')\n",
    "    \n",
    "    return"
   ]
  },
  {
   "cell_type": "markdown",
   "metadata": {
    "deletable": false,
    "editable": false,
    "nbgrader": {
     "grade": false,
     "locked": true,
     "solution": false
    }
   },
   "source": [
    "# <font style=\"color:blue\">10. Main</font>\n",
    "\n",
    "In this section of code, we use the configuration parameters defined above and start the training. Here are the important actions being taken in the code below:\n",
    "\n",
    "1. Set up system parameters like CPU/GPU, number of threads etc\n",
    "1. Load the data using dataloaders\n",
    "1. Create an instance of the LeNet model\n",
    "1. Specify optimizer to use.\n",
    "1. Set up variables to track loss and accuracy and start training.\n",
    "1. If loss decreases, saving the model"
   ]
  },
  {
   "cell_type": "code",
   "execution_count": 21,
   "metadata": {
    "collapsed": true,
    "deletable": false,
    "editable": false,
    "nbgrader": {
     "grade": false,
     "locked": true,
     "solution": false
    }
   },
   "outputs": [],
   "source": [
    "def main(system_configuration=SystemConfiguration(), training_configuration=TrainingConfiguration()):\n",
    "    \n",
    "    # system configuration\n",
    "    setup_system(system_configuration)\n",
    "\n",
    "    # batch size\n",
    "    batch_size_to_set = training_configuration.batch_size\n",
    "    # num_workers\n",
    "    num_workers_to_set = training_configuration.num_workers\n",
    "    # epochs\n",
    "    epoch_num_to_set = training_configuration.epochs_count\n",
    "\n",
    "    # if GPU is available use training config, \n",
    "    # else lowers batch_size, num_workers and epochs count\n",
    "    if torch.cuda.is_available():\n",
    "        device = \"cuda\"\n",
    "    else:\n",
    "        device = \"cpu\"\n",
    "        num_workers_to_set = 2\n",
    "\n",
    "    # data loader\n",
    "    train_loader, test_loader = get_data(\n",
    "        batch_size=training_configuration.batch_size,\n",
    "        data_root=training_configuration.data_root,\n",
    "        num_workers=num_workers_to_set\n",
    "    )\n",
    "    \n",
    "    # Update training configuration\n",
    "    training_configuration = TrainingConfiguration(\n",
    "        device=device,\n",
    "        num_workers=num_workers_to_set\n",
    "    )\n",
    "\n",
    "    # initiate model\n",
    "    model = MyModel()\n",
    "        \n",
    "    # send model to device (GPU/CPU)\n",
    "    model.to(training_configuration.device)\n",
    "\n",
    "    # optimizer\n",
    "    optimizer = optim.SGD(\n",
    "        model.parameters(),\n",
    "        lr=training_configuration.learning_rate\n",
    "    )\n",
    "\n",
    "    best_loss = torch.tensor(np.inf)\n",
    "    \n",
    "    # epoch train/test loss\n",
    "    epoch_train_loss = np.array([])\n",
    "    epoch_test_loss = np.array([])\n",
    "    \n",
    "    # epch train/test accuracy\n",
    "    epoch_train_acc = np.array([])\n",
    "    epoch_test_acc = np.array([])\n",
    "    \n",
    "    # trainig time measurement\n",
    "    t_begin = time.time()\n",
    "    for epoch in range(training_configuration.epochs_count):\n",
    "        \n",
    "        train_loss, train_acc = train(training_configuration, model, optimizer, train_loader, epoch)\n",
    "        \n",
    "        epoch_train_loss = np.append(epoch_train_loss, [train_loss])\n",
    "        \n",
    "        epoch_train_acc = np.append(epoch_train_acc, [train_acc])\n",
    "\n",
    "        elapsed_time = time.time() - t_begin\n",
    "        speed_epoch = elapsed_time / (epoch + 1)\n",
    "        speed_batch = speed_epoch / len(train_loader)\n",
    "        eta = speed_epoch * training_configuration.epochs_count - elapsed_time\n",
    "        \n",
    "        print(\n",
    "            \"Elapsed {:.2f}s, {:.2f} s/epoch, {:.2f} s/batch, ets {:.2f}s\".format(\n",
    "                elapsed_time, speed_epoch, speed_batch, eta\n",
    "            )\n",
    "        )\n",
    "\n",
    "        if epoch % training_configuration.test_interval == 0:\n",
    "            current_loss, current_accuracy = validate(training_configuration, model, test_loader)\n",
    "            \n",
    "            epoch_test_loss = np.append(epoch_test_loss, [current_loss])\n",
    "        \n",
    "            epoch_test_acc = np.append(epoch_test_acc, [current_accuracy])\n",
    "            \n",
    "            if current_loss < best_loss:\n",
    "                best_loss = current_loss\n",
    "                print('Loss decreases, saving the model.\\n')\n",
    "                save_model(model, device)\n",
    "                \n",
    "    print(\"Total time: {:.2f}, Best Loss: {:.3f}\".format(time.time() - t_begin, best_loss))\n",
    "    \n",
    "    return model, epoch_train_loss, epoch_train_acc, epoch_test_loss, epoch_test_acc"
   ]
  },
  {
   "cell_type": "code",
   "execution_count": 22,
   "metadata": {
    "collapsed": true,
    "deletable": false,
    "editable": false,
    "nbgrader": {
     "grade": true,
     "grade_id": "Accuracy",
     "locked": true,
     "points": "15",
     "solution": false
    }
   },
   "outputs": [],
   "source": [
    "###\n",
    "### AUTOGRADER TEST - DO NOT REMOVE\n",
    "###\n"
   ]
  },
  {
   "cell_type": "markdown",
   "metadata": {},
   "source": [
    "# <font style=\"color:blue\">Step 11: Start Training</font>\n",
    "This is where you start the training. You may see that the training does not converge or does not give a good accuracy. You need to change \n",
    "- In Step 1: the network architecture and add a few more layers or more nodes to the already existing layers\n",
    "- In Step 5: training parameters such as learning rate or batch_size or epochs so that the network converges or run the network for longer so that it gets more time to fit the data\n",
    "\n",
    "**You need to make sure that the accuracy at the end is at least 75%.**"
   ]
  },
  {
   "cell_type": "code",
   "execution_count": 23,
   "metadata": {
    "deletable": false,
    "editable": false,
    "nbgrader": {
     "grade": false,
     "locked": true,
     "solution": false
    },
    "scrolled": true
   },
   "outputs": [
    {
     "name": "stdout",
     "output_type": "stream",
     "text": [
      "Train Epoch: 0 [3200/50000] Loss: 2.310492 Acc: 0.0312\n",
      "Train Epoch: 0 [6400/50000] Loss: 2.302785 Acc: 0.0938\n",
      "Train Epoch: 0 [9600/50000] Loss: 2.295076 Acc: 0.0938\n",
      "Train Epoch: 0 [12800/50000] Loss: 2.278932 Acc: 0.2188\n",
      "Train Epoch: 0 [16000/50000] Loss: 2.264444 Acc: 0.2500\n",
      "Train Epoch: 0 [19200/50000] Loss: 2.271357 Acc: 0.0938\n",
      "Train Epoch: 0 [22400/50000] Loss: 2.269333 Acc: 0.2188\n",
      "Train Epoch: 0 [25600/50000] Loss: 2.263559 Acc: 0.1562\n",
      "Train Epoch: 0 [28800/50000] Loss: 2.253962 Acc: 0.2188\n",
      "Train Epoch: 0 [32000/50000] Loss: 2.261808 Acc: 0.2812\n",
      "Train Epoch: 0 [35200/50000] Loss: 2.256157 Acc: 0.1875\n",
      "Train Epoch: 0 [38400/50000] Loss: 2.173867 Acc: 0.3438\n",
      "Train Epoch: 0 [41600/50000] Loss: 2.170532 Acc: 0.1875\n",
      "Train Epoch: 0 [44800/50000] Loss: 2.171824 Acc: 0.1562\n",
      "Train Epoch: 0 [48000/50000] Loss: 2.140218 Acc: 0.2188\n",
      "Elapsed 248.06s, 248.06 s/epoch, 0.16 s/batch, ets 7193.80s\n",
      "\n",
      "Test set: Average loss: 2.1077, Accuracy: 3239/10000 (32%)\n",
      "\n",
      "Loss decreases, saving the model.\n",
      "\n",
      "Train Epoch: 1 [3200/50000] Loss: 2.127889 Acc: 0.2500\n",
      "Train Epoch: 1 [6400/50000] Loss: 1.996288 Acc: 0.2812\n",
      "Train Epoch: 1 [9600/50000] Loss: 1.992283 Acc: 0.3438\n",
      "Train Epoch: 1 [12800/50000] Loss: 1.885267 Acc: 0.3750\n",
      "Train Epoch: 1 [16000/50000] Loss: 1.798396 Acc: 0.4375\n",
      "Train Epoch: 1 [19200/50000] Loss: 1.879505 Acc: 0.2500\n",
      "Train Epoch: 1 [22400/50000] Loss: 1.700189 Acc: 0.5000\n",
      "Train Epoch: 1 [25600/50000] Loss: 1.865816 Acc: 0.3125\n",
      "Train Epoch: 1 [28800/50000] Loss: 1.811219 Acc: 0.3125\n",
      "Train Epoch: 1 [32000/50000] Loss: 1.757680 Acc: 0.3438\n",
      "Train Epoch: 1 [35200/50000] Loss: 1.617626 Acc: 0.4688\n",
      "Train Epoch: 1 [38400/50000] Loss: 1.507287 Acc: 0.4062\n",
      "Train Epoch: 1 [41600/50000] Loss: 1.716954 Acc: 0.4688\n",
      "Train Epoch: 1 [44800/50000] Loss: 1.679402 Acc: 0.4062\n",
      "Train Epoch: 1 [48000/50000] Loss: 1.758215 Acc: 0.4375\n",
      "Elapsed 496.52s, 248.26 s/epoch, 0.16 s/batch, ets 6951.23s\n",
      "\n",
      "Test set: Average loss: 1.6669, Accuracy: 3873/10000 (39%)\n",
      "\n",
      "Loss decreases, saving the model.\n",
      "\n",
      "Train Epoch: 2 [3200/50000] Loss: 1.673403 Acc: 0.3438\n",
      "Train Epoch: 2 [6400/50000] Loss: 1.726494 Acc: 0.3438\n",
      "Train Epoch: 2 [9600/50000] Loss: 1.711898 Acc: 0.4375\n",
      "Train Epoch: 2 [12800/50000] Loss: 1.607319 Acc: 0.2500\n",
      "Train Epoch: 2 [16000/50000] Loss: 1.661929 Acc: 0.3438\n",
      "Train Epoch: 2 [19200/50000] Loss: 1.587172 Acc: 0.4688\n",
      "Train Epoch: 2 [22400/50000] Loss: 1.364255 Acc: 0.5000\n",
      "Train Epoch: 2 [25600/50000] Loss: 1.674271 Acc: 0.3750\n",
      "Train Epoch: 2 [28800/50000] Loss: 1.526545 Acc: 0.5938\n",
      "Train Epoch: 2 [32000/50000] Loss: 1.604851 Acc: 0.4688\n",
      "Train Epoch: 2 [35200/50000] Loss: 1.454305 Acc: 0.4062\n",
      "Train Epoch: 2 [38400/50000] Loss: 1.585415 Acc: 0.4688\n",
      "Train Epoch: 2 [41600/50000] Loss: 1.359795 Acc: 0.5312\n",
      "Train Epoch: 2 [44800/50000] Loss: 1.588711 Acc: 0.5000\n",
      "Train Epoch: 2 [48000/50000] Loss: 1.579067 Acc: 0.5000\n",
      "Elapsed 757.01s, 252.34 s/epoch, 0.16 s/batch, ets 6813.09s\n",
      "\n",
      "Test set: Average loss: 1.4821, Accuracy: 4484/10000 (45%)\n",
      "\n",
      "Loss decreases, saving the model.\n",
      "\n",
      "Train Epoch: 3 [3200/50000] Loss: 1.281758 Acc: 0.6875\n",
      "Train Epoch: 3 [6400/50000] Loss: 1.669870 Acc: 0.2500\n",
      "Train Epoch: 3 [9600/50000] Loss: 1.534930 Acc: 0.4062\n",
      "Train Epoch: 3 [12800/50000] Loss: 1.451975 Acc: 0.2812\n",
      "Train Epoch: 3 [16000/50000] Loss: 1.279108 Acc: 0.6250\n",
      "Train Epoch: 3 [19200/50000] Loss: 1.641921 Acc: 0.4062\n",
      "Train Epoch: 3 [22400/50000] Loss: 1.374889 Acc: 0.5000\n",
      "Train Epoch: 3 [25600/50000] Loss: 1.631528 Acc: 0.3438\n",
      "Train Epoch: 3 [28800/50000] Loss: 1.205221 Acc: 0.5312\n",
      "Train Epoch: 3 [32000/50000] Loss: 1.218811 Acc: 0.4375\n",
      "Train Epoch: 3 [35200/50000] Loss: 1.431292 Acc: 0.5000\n",
      "Train Epoch: 3 [38400/50000] Loss: 1.656026 Acc: 0.2812\n",
      "Train Epoch: 3 [41600/50000] Loss: 1.294792 Acc: 0.5625\n",
      "Train Epoch: 3 [44800/50000] Loss: 1.399607 Acc: 0.5000\n",
      "Train Epoch: 3 [48000/50000] Loss: 1.359684 Acc: 0.5312\n",
      "Elapsed 1002.48s, 250.62 s/epoch, 0.16 s/batch, ets 6516.10s\n",
      "\n",
      "Test set: Average loss: 1.3244, Accuracy: 5141/10000 (51%)\n",
      "\n",
      "Loss decreases, saving the model.\n",
      "\n",
      "Train Epoch: 4 [3200/50000] Loss: 1.190830 Acc: 0.5000\n",
      "Train Epoch: 4 [6400/50000] Loss: 1.604019 Acc: 0.4062\n",
      "Train Epoch: 4 [9600/50000] Loss: 1.289169 Acc: 0.5000\n",
      "Train Epoch: 4 [12800/50000] Loss: 1.199022 Acc: 0.4688\n",
      "Train Epoch: 4 [16000/50000] Loss: 1.652112 Acc: 0.2188\n",
      "Train Epoch: 4 [19200/50000] Loss: 1.218889 Acc: 0.5625\n",
      "Train Epoch: 4 [22400/50000] Loss: 1.290178 Acc: 0.5625\n",
      "Train Epoch: 4 [25600/50000] Loss: 1.502103 Acc: 0.4688\n",
      "Train Epoch: 4 [28800/50000] Loss: 1.546405 Acc: 0.4688\n",
      "Train Epoch: 4 [32000/50000] Loss: 1.308857 Acc: 0.5312\n",
      "Train Epoch: 4 [35200/50000] Loss: 1.368758 Acc: 0.5000\n",
      "Train Epoch: 4 [38400/50000] Loss: 1.144042 Acc: 0.5312\n",
      "Train Epoch: 4 [41600/50000] Loss: 0.939255 Acc: 0.7188\n",
      "Train Epoch: 4 [44800/50000] Loss: 1.504976 Acc: 0.4375\n",
      "Train Epoch: 4 [48000/50000] Loss: 1.206365 Acc: 0.4688\n",
      "Elapsed 1254.96s, 250.99 s/epoch, 0.16 s/batch, ets 6274.78s\n",
      "\n",
      "Test set: Average loss: 1.2587, Accuracy: 5377/10000 (54%)\n",
      "\n",
      "Loss decreases, saving the model.\n",
      "\n",
      "Train Epoch: 5 [3200/50000] Loss: 1.060920 Acc: 0.6562\n",
      "Train Epoch: 5 [6400/50000] Loss: 1.119392 Acc: 0.6250\n",
      "Train Epoch: 5 [9600/50000] Loss: 1.047539 Acc: 0.6562\n",
      "Train Epoch: 5 [12800/50000] Loss: 0.875825 Acc: 0.6250\n",
      "Train Epoch: 5 [16000/50000] Loss: 1.053001 Acc: 0.5938\n",
      "Train Epoch: 5 [19200/50000] Loss: 1.263468 Acc: 0.5000\n",
      "Train Epoch: 5 [22400/50000] Loss: 1.231447 Acc: 0.5938\n",
      "Train Epoch: 5 [25600/50000] Loss: 1.003743 Acc: 0.6875\n",
      "Train Epoch: 5 [28800/50000] Loss: 1.344558 Acc: 0.5938\n",
      "Train Epoch: 5 [32000/50000] Loss: 1.311201 Acc: 0.5000\n",
      "Train Epoch: 5 [35200/50000] Loss: 1.064655 Acc: 0.5938\n",
      "Train Epoch: 5 [38400/50000] Loss: 1.523012 Acc: 0.4375\n",
      "Train Epoch: 5 [41600/50000] Loss: 1.105355 Acc: 0.5000\n",
      "Train Epoch: 5 [44800/50000] Loss: 1.004579 Acc: 0.6250\n",
      "Train Epoch: 5 [48000/50000] Loss: 1.182262 Acc: 0.5000\n",
      "Elapsed 1517.81s, 252.97 s/epoch, 0.16 s/batch, ets 6071.23s\n",
      "\n",
      "Test set: Average loss: 1.1931, Accuracy: 5722/10000 (57%)\n",
      "\n",
      "Loss decreases, saving the model.\n",
      "\n",
      "Train Epoch: 6 [3200/50000] Loss: 1.004966 Acc: 0.5000\n",
      "Train Epoch: 6 [6400/50000] Loss: 0.905141 Acc: 0.6250\n",
      "Train Epoch: 6 [9600/50000] Loss: 1.118433 Acc: 0.4688\n",
      "Train Epoch: 6 [12800/50000] Loss: 1.313067 Acc: 0.4688\n",
      "Train Epoch: 6 [16000/50000] Loss: 1.103224 Acc: 0.5312\n",
      "Train Epoch: 6 [19200/50000] Loss: 1.246844 Acc: 0.5312\n",
      "Train Epoch: 6 [22400/50000] Loss: 1.498978 Acc: 0.5312\n",
      "Train Epoch: 6 [25600/50000] Loss: 1.412179 Acc: 0.4688\n",
      "Train Epoch: 6 [28800/50000] Loss: 1.032754 Acc: 0.6250\n",
      "Train Epoch: 6 [32000/50000] Loss: 0.821259 Acc: 0.7188\n",
      "Train Epoch: 6 [35200/50000] Loss: 1.269618 Acc: 0.5625\n",
      "Train Epoch: 6 [38400/50000] Loss: 1.394015 Acc: 0.5000\n",
      "Train Epoch: 6 [41600/50000] Loss: 0.876178 Acc: 0.6875\n",
      "Train Epoch: 6 [44800/50000] Loss: 0.831799 Acc: 0.6562\n",
      "Train Epoch: 6 [48000/50000] Loss: 0.849240 Acc: 0.6875\n",
      "Elapsed 1775.86s, 253.69 s/epoch, 0.16 s/batch, ets 5834.95s\n",
      "\n",
      "Test set: Average loss: 1.1497, Accuracy: 5936/10000 (59%)\n",
      "\n",
      "Loss decreases, saving the model.\n",
      "\n",
      "Train Epoch: 7 [3200/50000] Loss: 1.432099 Acc: 0.4375\n",
      "Train Epoch: 7 [6400/50000] Loss: 0.627502 Acc: 0.7500\n",
      "Train Epoch: 7 [9600/50000] Loss: 1.172030 Acc: 0.5000\n",
      "Train Epoch: 7 [12800/50000] Loss: 1.017964 Acc: 0.6250\n",
      "Train Epoch: 7 [16000/50000] Loss: 0.999195 Acc: 0.5625\n",
      "Train Epoch: 7 [19200/50000] Loss: 0.795714 Acc: 0.7812\n",
      "Train Epoch: 7 [22400/50000] Loss: 0.928001 Acc: 0.7188\n",
      "Train Epoch: 7 [25600/50000] Loss: 1.027839 Acc: 0.6562\n",
      "Train Epoch: 7 [28800/50000] Loss: 0.992017 Acc: 0.6562\n",
      "Train Epoch: 7 [32000/50000] Loss: 0.975053 Acc: 0.6875\n",
      "Train Epoch: 7 [35200/50000] Loss: 1.106325 Acc: 0.6875\n",
      "Train Epoch: 7 [38400/50000] Loss: 1.167238 Acc: 0.5000\n",
      "Train Epoch: 7 [41600/50000] Loss: 0.816624 Acc: 0.7500\n",
      "Train Epoch: 7 [44800/50000] Loss: 0.899721 Acc: 0.6250\n",
      "Train Epoch: 7 [48000/50000] Loss: 1.271231 Acc: 0.5938\n",
      "Elapsed 2039.20s, 254.90 s/epoch, 0.16 s/batch, ets 5607.80s\n",
      "\n",
      "Test set: Average loss: 1.0277, Accuracy: 6275/10000 (63%)\n",
      "\n",
      "Loss decreases, saving the model.\n",
      "\n",
      "Train Epoch: 8 [3200/50000] Loss: 0.750834 Acc: 0.6562\n",
      "Train Epoch: 8 [6400/50000] Loss: 1.134766 Acc: 0.6250\n",
      "Train Epoch: 8 [9600/50000] Loss: 0.814746 Acc: 0.6562\n",
      "Train Epoch: 8 [12800/50000] Loss: 0.898684 Acc: 0.7188\n",
      "Train Epoch: 8 [16000/50000] Loss: 0.837940 Acc: 0.7188\n"
     ]
    },
    {
     "name": "stdout",
     "output_type": "stream",
     "text": [
      "Train Epoch: 8 [19200/50000] Loss: 0.755732 Acc: 0.7812\n",
      "Train Epoch: 8 [22400/50000] Loss: 0.741929 Acc: 0.6250\n",
      "Train Epoch: 8 [25600/50000] Loss: 0.799561 Acc: 0.7812\n",
      "Train Epoch: 8 [28800/50000] Loss: 1.050775 Acc: 0.6562\n",
      "Train Epoch: 8 [32000/50000] Loss: 0.743794 Acc: 0.7500\n",
      "Train Epoch: 8 [35200/50000] Loss: 1.451326 Acc: 0.6250\n",
      "Train Epoch: 8 [38400/50000] Loss: 1.082158 Acc: 0.5625\n",
      "Train Epoch: 8 [41600/50000] Loss: 1.048335 Acc: 0.6250\n",
      "Train Epoch: 8 [44800/50000] Loss: 0.891723 Acc: 0.6875\n",
      "Train Epoch: 8 [48000/50000] Loss: 0.886071 Acc: 0.7500\n",
      "Elapsed 2294.15s, 254.91 s/epoch, 0.16 s/batch, ets 5353.02s\n",
      "\n",
      "Test set: Average loss: 0.9564, Accuracy: 6633/10000 (66%)\n",
      "\n",
      "Loss decreases, saving the model.\n",
      "\n",
      "Train Epoch: 9 [3200/50000] Loss: 0.855187 Acc: 0.6875\n",
      "Train Epoch: 9 [6400/50000] Loss: 1.112756 Acc: 0.6250\n",
      "Train Epoch: 9 [9600/50000] Loss: 0.575738 Acc: 0.8438\n",
      "Train Epoch: 9 [12800/50000] Loss: 1.028363 Acc: 0.6562\n",
      "Train Epoch: 9 [16000/50000] Loss: 0.525309 Acc: 0.8125\n",
      "Train Epoch: 9 [19200/50000] Loss: 1.204599 Acc: 0.5312\n",
      "Train Epoch: 9 [22400/50000] Loss: 0.904261 Acc: 0.6875\n",
      "Train Epoch: 9 [25600/50000] Loss: 1.258068 Acc: 0.5000\n",
      "Train Epoch: 9 [28800/50000] Loss: 0.755383 Acc: 0.7188\n",
      "Train Epoch: 9 [32000/50000] Loss: 0.645254 Acc: 0.7812\n",
      "Train Epoch: 9 [35200/50000] Loss: 0.825493 Acc: 0.6875\n",
      "Train Epoch: 9 [38400/50000] Loss: 0.834711 Acc: 0.7812\n",
      "Train Epoch: 9 [41600/50000] Loss: 0.946299 Acc: 0.6562\n",
      "Train Epoch: 9 [44800/50000] Loss: 0.830227 Acc: 0.6250\n",
      "Train Epoch: 9 [48000/50000] Loss: 0.965429 Acc: 0.5938\n",
      "Elapsed 2549.64s, 254.96 s/epoch, 0.16 s/batch, ets 5099.28s\n",
      "\n",
      "Test set: Average loss: 0.9451, Accuracy: 6676/10000 (67%)\n",
      "\n",
      "Loss decreases, saving the model.\n",
      "\n",
      "Train Epoch: 10 [3200/50000] Loss: 0.793234 Acc: 0.7500\n",
      "Train Epoch: 10 [6400/50000] Loss: 1.306294 Acc: 0.4375\n",
      "Train Epoch: 10 [9600/50000] Loss: 0.749078 Acc: 0.8125\n",
      "Train Epoch: 10 [12800/50000] Loss: 0.792115 Acc: 0.7812\n",
      "Train Epoch: 10 [16000/50000] Loss: 0.939310 Acc: 0.5625\n",
      "Train Epoch: 10 [19200/50000] Loss: 0.643827 Acc: 0.7812\n",
      "Train Epoch: 10 [22400/50000] Loss: 0.528208 Acc: 0.8125\n",
      "Train Epoch: 10 [25600/50000] Loss: 0.584841 Acc: 0.7812\n",
      "Train Epoch: 10 [28800/50000] Loss: 1.028555 Acc: 0.6562\n",
      "Train Epoch: 10 [32000/50000] Loss: 0.584490 Acc: 0.8125\n",
      "Train Epoch: 10 [35200/50000] Loss: 0.780416 Acc: 0.7188\n",
      "Train Epoch: 10 [38400/50000] Loss: 0.832668 Acc: 0.6875\n",
      "Train Epoch: 10 [41600/50000] Loss: 0.922527 Acc: 0.7188\n",
      "Train Epoch: 10 [44800/50000] Loss: 0.687905 Acc: 0.7188\n",
      "Train Epoch: 10 [48000/50000] Loss: 0.835998 Acc: 0.7188\n",
      "Elapsed 2808.13s, 255.28 s/epoch, 0.16 s/batch, ets 4850.41s\n",
      "\n",
      "Test set: Average loss: 0.8357, Accuracy: 7015/10000 (70%)\n",
      "\n",
      "Loss decreases, saving the model.\n",
      "\n",
      "Train Epoch: 11 [3200/50000] Loss: 0.701183 Acc: 0.7188\n",
      "Train Epoch: 11 [6400/50000] Loss: 0.735755 Acc: 0.7500\n",
      "Train Epoch: 11 [9600/50000] Loss: 0.527454 Acc: 0.8125\n",
      "Train Epoch: 11 [12800/50000] Loss: 0.817270 Acc: 0.7812\n",
      "Train Epoch: 11 [16000/50000] Loss: 0.947617 Acc: 0.6875\n",
      "Train Epoch: 11 [19200/50000] Loss: 0.667979 Acc: 0.7500\n",
      "Train Epoch: 11 [22400/50000] Loss: 0.839952 Acc: 0.7500\n",
      "Train Epoch: 11 [25600/50000] Loss: 0.633749 Acc: 0.7500\n",
      "Train Epoch: 11 [28800/50000] Loss: 0.610173 Acc: 0.8125\n",
      "Train Epoch: 11 [32000/50000] Loss: 0.842171 Acc: 0.6562\n",
      "Train Epoch: 11 [35200/50000] Loss: 0.721723 Acc: 0.8125\n",
      "Train Epoch: 11 [38400/50000] Loss: 0.531863 Acc: 0.7812\n",
      "Train Epoch: 11 [41600/50000] Loss: 0.668944 Acc: 0.7188\n",
      "Train Epoch: 11 [44800/50000] Loss: 1.026253 Acc: 0.6562\n",
      "Train Epoch: 11 [48000/50000] Loss: 0.909472 Acc: 0.6875\n",
      "Elapsed 3069.88s, 255.82 s/epoch, 0.16 s/batch, ets 4604.82s\n",
      "\n",
      "Test set: Average loss: 0.8803, Accuracy: 6947/10000 (69%)\n",
      "\n",
      "Train Epoch: 12 [3200/50000] Loss: 0.706122 Acc: 0.8125\n",
      "Train Epoch: 12 [6400/50000] Loss: 0.784622 Acc: 0.6875\n",
      "Train Epoch: 12 [9600/50000] Loss: 0.945815 Acc: 0.6250\n",
      "Train Epoch: 12 [12800/50000] Loss: 0.859535 Acc: 0.6250\n",
      "Train Epoch: 12 [16000/50000] Loss: 0.704243 Acc: 0.7500\n",
      "Train Epoch: 12 [19200/50000] Loss: 0.685233 Acc: 0.7188\n",
      "Train Epoch: 12 [22400/50000] Loss: 0.949808 Acc: 0.5938\n",
      "Train Epoch: 12 [25600/50000] Loss: 0.801165 Acc: 0.7188\n",
      "Train Epoch: 12 [28800/50000] Loss: 0.755967 Acc: 0.7812\n",
      "Train Epoch: 12 [32000/50000] Loss: 0.630035 Acc: 0.8438\n",
      "Train Epoch: 12 [35200/50000] Loss: 0.673963 Acc: 0.7500\n",
      "Train Epoch: 12 [38400/50000] Loss: 0.563409 Acc: 0.8125\n",
      "Train Epoch: 12 [41600/50000] Loss: 0.710598 Acc: 0.7188\n",
      "Train Epoch: 12 [44800/50000] Loss: 0.702908 Acc: 0.8125\n",
      "Train Epoch: 12 [48000/50000] Loss: 0.814622 Acc: 0.5938\n",
      "Elapsed 3328.53s, 256.04 s/epoch, 0.16 s/batch, ets 4352.69s\n",
      "\n",
      "Test set: Average loss: 0.8049, Accuracy: 7222/10000 (72%)\n",
      "\n",
      "Loss decreases, saving the model.\n",
      "\n",
      "Train Epoch: 13 [3200/50000] Loss: 0.727975 Acc: 0.7500\n",
      "Train Epoch: 13 [6400/50000] Loss: 0.932641 Acc: 0.6250\n",
      "Train Epoch: 13 [9600/50000] Loss: 0.918271 Acc: 0.5938\n",
      "Train Epoch: 13 [12800/50000] Loss: 0.780941 Acc: 0.7812\n",
      "Train Epoch: 13 [16000/50000] Loss: 0.703971 Acc: 0.7500\n",
      "Train Epoch: 13 [19200/50000] Loss: 0.909503 Acc: 0.6562\n",
      "Train Epoch: 13 [22400/50000] Loss: 0.701902 Acc: 0.7188\n",
      "Train Epoch: 13 [25600/50000] Loss: 0.801752 Acc: 0.6250\n",
      "Train Epoch: 13 [28800/50000] Loss: 0.578559 Acc: 0.8438\n",
      "Train Epoch: 13 [32000/50000] Loss: 0.849350 Acc: 0.8125\n",
      "Train Epoch: 13 [35200/50000] Loss: 0.668601 Acc: 0.7812\n",
      "Train Epoch: 13 [38400/50000] Loss: 0.623333 Acc: 0.8125\n",
      "Train Epoch: 13 [41600/50000] Loss: 0.644110 Acc: 0.7812\n",
      "Train Epoch: 13 [44800/50000] Loss: 0.913517 Acc: 0.6562\n",
      "Train Epoch: 13 [48000/50000] Loss: 0.798954 Acc: 0.7500\n",
      "Elapsed 3579.56s, 255.68 s/epoch, 0.16 s/batch, ets 4090.93s\n",
      "\n",
      "Test set: Average loss: 0.7729, Accuracy: 7311/10000 (73%)\n",
      "\n",
      "Loss decreases, saving the model.\n",
      "\n",
      "Train Epoch: 14 [3200/50000] Loss: 0.678302 Acc: 0.7188\n",
      "Train Epoch: 14 [6400/50000] Loss: 0.355696 Acc: 0.8438\n",
      "Train Epoch: 14 [9600/50000] Loss: 0.481114 Acc: 0.8125\n",
      "Train Epoch: 14 [12800/50000] Loss: 0.676283 Acc: 0.8125\n",
      "Train Epoch: 14 [16000/50000] Loss: 0.980464 Acc: 0.7188\n",
      "Train Epoch: 14 [19200/50000] Loss: 0.939906 Acc: 0.6875\n",
      "Train Epoch: 14 [22400/50000] Loss: 0.287261 Acc: 0.9688\n",
      "Train Epoch: 14 [25600/50000] Loss: 0.611941 Acc: 0.8438\n",
      "Train Epoch: 14 [28800/50000] Loss: 0.631845 Acc: 0.7812\n",
      "Train Epoch: 14 [32000/50000] Loss: 0.656919 Acc: 0.8125\n",
      "Train Epoch: 14 [35200/50000] Loss: 0.594019 Acc: 0.8125\n",
      "Train Epoch: 14 [38400/50000] Loss: 0.701148 Acc: 0.6875\n",
      "Train Epoch: 14 [41600/50000] Loss: 0.611558 Acc: 0.7500\n",
      "Train Epoch: 14 [44800/50000] Loss: 0.585827 Acc: 0.8125\n",
      "Train Epoch: 14 [48000/50000] Loss: 0.444324 Acc: 0.8125\n",
      "Elapsed 3845.92s, 256.39 s/epoch, 0.16 s/batch, ets 3845.92s\n",
      "\n",
      "Test set: Average loss: 0.7990, Accuracy: 7251/10000 (73%)\n",
      "\n",
      "Train Epoch: 15 [3200/50000] Loss: 0.550614 Acc: 0.8438\n",
      "Train Epoch: 15 [6400/50000] Loss: 0.488496 Acc: 0.8438\n",
      "Train Epoch: 15 [9600/50000] Loss: 0.553229 Acc: 0.7812\n",
      "Train Epoch: 15 [12800/50000] Loss: 0.662950 Acc: 0.7188\n",
      "Train Epoch: 15 [16000/50000] Loss: 0.814229 Acc: 0.7500\n",
      "Train Epoch: 15 [19200/50000] Loss: 0.679266 Acc: 0.7500\n",
      "Train Epoch: 15 [22400/50000] Loss: 0.505530 Acc: 0.7812\n",
      "Train Epoch: 15 [25600/50000] Loss: 0.887100 Acc: 0.6875\n",
      "Train Epoch: 15 [28800/50000] Loss: 0.844790 Acc: 0.7188\n",
      "Train Epoch: 15 [32000/50000] Loss: 0.448520 Acc: 0.8438\n",
      "Train Epoch: 15 [35200/50000] Loss: 0.501435 Acc: 0.8125\n",
      "Train Epoch: 15 [38400/50000] Loss: 0.584335 Acc: 0.7500\n",
      "Train Epoch: 15 [41600/50000] Loss: 0.467107 Acc: 0.8438\n",
      "Train Epoch: 15 [44800/50000] Loss: 0.494391 Acc: 0.7812\n",
      "Train Epoch: 15 [48000/50000] Loss: 0.402877 Acc: 0.9062\n",
      "Elapsed 4099.29s, 256.21 s/epoch, 0.16 s/batch, ets 3586.88s\n",
      "\n",
      "Test set: Average loss: 0.8197, Accuracy: 7179/10000 (72%)\n",
      "\n",
      "Train Epoch: 16 [3200/50000] Loss: 0.445018 Acc: 0.8438\n",
      "Train Epoch: 16 [6400/50000] Loss: 0.639930 Acc: 0.7812\n",
      "Train Epoch: 16 [9600/50000] Loss: 0.501254 Acc: 0.8125\n",
      "Train Epoch: 16 [12800/50000] Loss: 0.475197 Acc: 0.8438\n",
      "Train Epoch: 16 [16000/50000] Loss: 0.369405 Acc: 0.8750\n",
      "Train Epoch: 16 [19200/50000] Loss: 0.476497 Acc: 0.8125\n",
      "Train Epoch: 16 [22400/50000] Loss: 0.649441 Acc: 0.7812\n",
      "Train Epoch: 16 [25600/50000] Loss: 0.565473 Acc: 0.7500\n",
      "Train Epoch: 16 [28800/50000] Loss: 0.417819 Acc: 0.8750\n",
      "Train Epoch: 16 [32000/50000] Loss: 0.644829 Acc: 0.7812\n"
     ]
    },
    {
     "name": "stdout",
     "output_type": "stream",
     "text": [
      "Train Epoch: 16 [35200/50000] Loss: 0.455107 Acc: 0.8125\n",
      "Train Epoch: 16 [38400/50000] Loss: 0.526211 Acc: 0.8438\n",
      "Train Epoch: 16 [41600/50000] Loss: 0.617402 Acc: 0.7188\n",
      "Train Epoch: 16 [44800/50000] Loss: 0.552287 Acc: 0.7812\n",
      "Train Epoch: 16 [48000/50000] Loss: 0.308885 Acc: 0.8750\n",
      "Elapsed 4353.36s, 256.08 s/epoch, 0.16 s/batch, ets 3329.04s\n",
      "\n",
      "Test set: Average loss: 0.8261, Accuracy: 7260/10000 (73%)\n",
      "\n",
      "Train Epoch: 17 [3200/50000] Loss: 0.448912 Acc: 0.8438\n",
      "Train Epoch: 17 [6400/50000] Loss: 0.541737 Acc: 0.7188\n",
      "Train Epoch: 17 [9600/50000] Loss: 0.521367 Acc: 0.7812\n",
      "Train Epoch: 17 [12800/50000] Loss: 0.557535 Acc: 0.7812\n",
      "Train Epoch: 17 [16000/50000] Loss: 0.554328 Acc: 0.7500\n",
      "Train Epoch: 17 [19200/50000] Loss: 0.651357 Acc: 0.8750\n",
      "Train Epoch: 17 [22400/50000] Loss: 0.628826 Acc: 0.7812\n",
      "Train Epoch: 17 [25600/50000] Loss: 0.431966 Acc: 0.7812\n",
      "Train Epoch: 17 [28800/50000] Loss: 0.396987 Acc: 0.8125\n",
      "Train Epoch: 17 [32000/50000] Loss: 0.694714 Acc: 0.7812\n",
      "Train Epoch: 17 [35200/50000] Loss: 0.631231 Acc: 0.7500\n",
      "Train Epoch: 17 [38400/50000] Loss: 0.496654 Acc: 0.8125\n",
      "Train Epoch: 17 [41600/50000] Loss: 0.549947 Acc: 0.7188\n",
      "Train Epoch: 17 [44800/50000] Loss: 0.608643 Acc: 0.7500\n",
      "Train Epoch: 17 [48000/50000] Loss: 0.841848 Acc: 0.6562\n",
      "Elapsed 4603.36s, 255.74 s/epoch, 0.16 s/batch, ets 3068.90s\n",
      "\n",
      "Test set: Average loss: 0.7764, Accuracy: 7343/10000 (73%)\n",
      "\n",
      "Train Epoch: 18 [3200/50000] Loss: 0.671901 Acc: 0.7500\n",
      "Train Epoch: 18 [6400/50000] Loss: 0.357350 Acc: 0.9062\n",
      "Train Epoch: 18 [9600/50000] Loss: 0.459392 Acc: 0.7188\n",
      "Train Epoch: 18 [12800/50000] Loss: 0.704034 Acc: 0.7500\n",
      "Train Epoch: 18 [16000/50000] Loss: 0.408814 Acc: 0.9062\n",
      "Train Epoch: 18 [19200/50000] Loss: 0.531025 Acc: 0.7812\n",
      "Train Epoch: 18 [22400/50000] Loss: 0.565561 Acc: 0.8750\n",
      "Train Epoch: 18 [25600/50000] Loss: 0.389224 Acc: 0.8750\n",
      "Train Epoch: 18 [28800/50000] Loss: 0.516698 Acc: 0.8125\n",
      "Train Epoch: 18 [32000/50000] Loss: 0.471512 Acc: 0.8125\n",
      "Train Epoch: 18 [35200/50000] Loss: 0.471629 Acc: 0.8125\n",
      "Train Epoch: 18 [38400/50000] Loss: 0.383904 Acc: 0.8438\n",
      "Train Epoch: 18 [41600/50000] Loss: 0.411439 Acc: 0.8750\n",
      "Train Epoch: 18 [44800/50000] Loss: 0.386212 Acc: 0.8125\n",
      "Train Epoch: 18 [48000/50000] Loss: 0.315158 Acc: 0.8750\n",
      "Elapsed 4846.22s, 255.06 s/epoch, 0.16 s/batch, ets 2805.71s\n",
      "\n",
      "Test set: Average loss: 0.8470, Accuracy: 7243/10000 (72%)\n",
      "\n",
      "Train Epoch: 19 [3200/50000] Loss: 0.433286 Acc: 0.8125\n",
      "Train Epoch: 19 [6400/50000] Loss: 0.291791 Acc: 0.8438\n",
      "Train Epoch: 19 [9600/50000] Loss: 0.393430 Acc: 0.8438\n",
      "Train Epoch: 19 [12800/50000] Loss: 0.421831 Acc: 0.8438\n",
      "Train Epoch: 19 [16000/50000] Loss: 0.673399 Acc: 0.7812\n",
      "Train Epoch: 19 [19200/50000] Loss: 0.691230 Acc: 0.6875\n",
      "Train Epoch: 19 [22400/50000] Loss: 0.506986 Acc: 0.8438\n",
      "Train Epoch: 19 [25600/50000] Loss: 0.483516 Acc: 0.8750\n",
      "Train Epoch: 19 [28800/50000] Loss: 0.480154 Acc: 0.8438\n",
      "Train Epoch: 19 [32000/50000] Loss: 0.268087 Acc: 0.9688\n",
      "Train Epoch: 19 [35200/50000] Loss: 0.445820 Acc: 0.7812\n",
      "Train Epoch: 19 [38400/50000] Loss: 0.639340 Acc: 0.7500\n",
      "Train Epoch: 19 [41600/50000] Loss: 0.611175 Acc: 0.7812\n",
      "Train Epoch: 19 [44800/50000] Loss: 0.422703 Acc: 0.8438\n",
      "Train Epoch: 19 [48000/50000] Loss: 0.497960 Acc: 0.8125\n",
      "Elapsed 5103.43s, 255.17 s/epoch, 0.16 s/batch, ets 2551.72s\n",
      "\n",
      "Test set: Average loss: 0.7426, Accuracy: 7518/10000 (75%)\n",
      "\n",
      "Loss decreases, saving the model.\n",
      "\n",
      "Train Epoch: 20 [3200/50000] Loss: 0.676769 Acc: 0.7812\n",
      "Train Epoch: 20 [6400/50000] Loss: 0.179647 Acc: 0.9688\n",
      "Train Epoch: 20 [9600/50000] Loss: 0.579327 Acc: 0.7812\n",
      "Train Epoch: 20 [12800/50000] Loss: 0.429758 Acc: 0.8438\n",
      "Train Epoch: 20 [16000/50000] Loss: 0.476110 Acc: 0.8438\n",
      "Train Epoch: 20 [19200/50000] Loss: 0.281361 Acc: 0.9375\n",
      "Train Epoch: 20 [22400/50000] Loss: 0.283215 Acc: 0.9062\n",
      "Train Epoch: 20 [25600/50000] Loss: 0.621218 Acc: 0.8125\n",
      "Train Epoch: 20 [28800/50000] Loss: 0.546573 Acc: 0.8750\n",
      "Train Epoch: 20 [32000/50000] Loss: 0.564517 Acc: 0.8750\n",
      "Train Epoch: 20 [35200/50000] Loss: 0.561762 Acc: 0.8438\n",
      "Train Epoch: 20 [38400/50000] Loss: 0.332894 Acc: 0.9062\n",
      "Train Epoch: 20 [41600/50000] Loss: 0.382800 Acc: 0.8125\n",
      "Train Epoch: 20 [44800/50000] Loss: 0.374227 Acc: 0.8125\n",
      "Train Epoch: 20 [48000/50000] Loss: 0.527826 Acc: 0.8438\n",
      "Elapsed 5341.37s, 254.35 s/epoch, 0.16 s/batch, ets 2289.16s\n",
      "\n",
      "Test set: Average loss: 0.7234, Accuracy: 7608/10000 (76%)\n",
      "\n",
      "Loss decreases, saving the model.\n",
      "\n",
      "Train Epoch: 21 [3200/50000] Loss: 0.428058 Acc: 0.8438\n",
      "Train Epoch: 21 [6400/50000] Loss: 0.475256 Acc: 0.8750\n",
      "Train Epoch: 21 [9600/50000] Loss: 0.243753 Acc: 0.9062\n",
      "Train Epoch: 21 [12800/50000] Loss: 0.732855 Acc: 0.7500\n",
      "Train Epoch: 21 [16000/50000] Loss: 0.602597 Acc: 0.8438\n",
      "Train Epoch: 21 [19200/50000] Loss: 0.438049 Acc: 0.8438\n",
      "Train Epoch: 21 [22400/50000] Loss: 0.362731 Acc: 0.9062\n",
      "Train Epoch: 21 [25600/50000] Loss: 0.339606 Acc: 0.9062\n",
      "Train Epoch: 21 [28800/50000] Loss: 0.510334 Acc: 0.7812\n",
      "Train Epoch: 21 [32000/50000] Loss: 0.151269 Acc: 0.9688\n",
      "Train Epoch: 21 [35200/50000] Loss: 0.329881 Acc: 0.8438\n",
      "Train Epoch: 21 [38400/50000] Loss: 0.187868 Acc: 0.9688\n",
      "Train Epoch: 21 [41600/50000] Loss: 0.428841 Acc: 0.8125\n",
      "Train Epoch: 21 [44800/50000] Loss: 0.735675 Acc: 0.7812\n",
      "Train Epoch: 21 [48000/50000] Loss: 0.472274 Acc: 0.8438\n",
      "Elapsed 5590.66s, 254.12 s/epoch, 0.16 s/batch, ets 2032.97s\n",
      "\n",
      "Test set: Average loss: 0.6688, Accuracy: 7774/10000 (78%)\n",
      "\n",
      "Loss decreases, saving the model.\n",
      "\n",
      "Train Epoch: 22 [3200/50000] Loss: 0.311580 Acc: 0.9062\n",
      "Train Epoch: 22 [6400/50000] Loss: 0.581071 Acc: 0.7812\n",
      "Train Epoch: 22 [9600/50000] Loss: 0.388489 Acc: 0.8438\n",
      "Train Epoch: 22 [12800/50000] Loss: 0.310021 Acc: 0.9062\n",
      "Train Epoch: 22 [16000/50000] Loss: 0.224453 Acc: 0.9375\n",
      "Train Epoch: 22 [19200/50000] Loss: 0.348740 Acc: 0.8438\n",
      "Train Epoch: 22 [22400/50000] Loss: 0.321229 Acc: 0.9375\n",
      "Train Epoch: 22 [25600/50000] Loss: 0.405944 Acc: 0.8750\n",
      "Train Epoch: 22 [28800/50000] Loss: 0.575446 Acc: 0.7812\n",
      "Train Epoch: 22 [32000/50000] Loss: 0.290002 Acc: 0.8750\n",
      "Train Epoch: 22 [35200/50000] Loss: 0.538749 Acc: 0.7812\n",
      "Train Epoch: 22 [38400/50000] Loss: 0.507587 Acc: 0.8125\n",
      "Train Epoch: 22 [41600/50000] Loss: 0.346065 Acc: 0.8750\n",
      "Train Epoch: 22 [44800/50000] Loss: 0.340229 Acc: 0.9375\n",
      "Train Epoch: 22 [48000/50000] Loss: 0.293242 Acc: 0.9375\n",
      "Elapsed 5844.11s, 254.09 s/epoch, 0.16 s/batch, ets 1778.64s\n",
      "\n",
      "Test set: Average loss: 0.7240, Accuracy: 7614/10000 (76%)\n",
      "\n",
      "Train Epoch: 23 [3200/50000] Loss: 0.301476 Acc: 0.8750\n",
      "Train Epoch: 23 [6400/50000] Loss: 0.375659 Acc: 0.8125\n",
      "Train Epoch: 23 [9600/50000] Loss: 0.249039 Acc: 0.9375\n",
      "Train Epoch: 23 [12800/50000] Loss: 0.337662 Acc: 0.9375\n",
      "Train Epoch: 23 [16000/50000] Loss: 0.090750 Acc: 1.0000\n",
      "Train Epoch: 23 [19200/50000] Loss: 0.188143 Acc: 0.8750\n",
      "Train Epoch: 23 [22400/50000] Loss: 0.409566 Acc: 0.8438\n",
      "Train Epoch: 23 [25600/50000] Loss: 0.277090 Acc: 0.9062\n",
      "Train Epoch: 23 [28800/50000] Loss: 0.329484 Acc: 0.9062\n",
      "Train Epoch: 23 [32000/50000] Loss: 0.285847 Acc: 0.9062\n",
      "Train Epoch: 23 [35200/50000] Loss: 0.360650 Acc: 0.8125\n",
      "Train Epoch: 23 [38400/50000] Loss: 0.421735 Acc: 0.8438\n",
      "Train Epoch: 23 [41600/50000] Loss: 0.256053 Acc: 1.0000\n",
      "Train Epoch: 23 [44800/50000] Loss: 0.284223 Acc: 0.9062\n",
      "Train Epoch: 23 [48000/50000] Loss: 0.382934 Acc: 0.8750\n",
      "Elapsed 6094.94s, 253.96 s/epoch, 0.16 s/batch, ets 1523.73s\n",
      "\n",
      "Test set: Average loss: 0.7209, Accuracy: 7716/10000 (77%)\n",
      "\n",
      "Train Epoch: 24 [3200/50000] Loss: 0.281786 Acc: 0.9062\n",
      "Train Epoch: 24 [6400/50000] Loss: 0.315408 Acc: 0.8438\n",
      "Train Epoch: 24 [9600/50000] Loss: 0.252809 Acc: 0.9062\n",
      "Train Epoch: 24 [12800/50000] Loss: 0.241286 Acc: 0.9375\n",
      "Train Epoch: 24 [16000/50000] Loss: 0.548458 Acc: 0.8125\n",
      "Train Epoch: 24 [19200/50000] Loss: 0.217937 Acc: 0.9062\n",
      "Train Epoch: 24 [22400/50000] Loss: 0.268897 Acc: 0.8750\n",
      "Train Epoch: 24 [25600/50000] Loss: 0.467900 Acc: 0.8750\n",
      "Train Epoch: 24 [28800/50000] Loss: 0.447665 Acc: 0.8750\n",
      "Train Epoch: 24 [32000/50000] Loss: 0.447286 Acc: 0.8125\n",
      "Train Epoch: 24 [35200/50000] Loss: 0.261103 Acc: 0.9062\n",
      "Train Epoch: 24 [38400/50000] Loss: 0.497980 Acc: 0.7500\n",
      "Train Epoch: 24 [41600/50000] Loss: 0.262150 Acc: 0.9062\n",
      "Train Epoch: 24 [44800/50000] Loss: 0.523115 Acc: 0.8125\n",
      "Train Epoch: 24 [48000/50000] Loss: 0.748509 Acc: 0.7188\n",
      "Elapsed 6352.36s, 254.09 s/epoch, 0.16 s/batch, ets 1270.47s\n"
     ]
    },
    {
     "name": "stdout",
     "output_type": "stream",
     "text": [
      "\n",
      "Test set: Average loss: 0.7309, Accuracy: 7611/10000 (76%)\n",
      "\n",
      "Train Epoch: 25 [3200/50000] Loss: 0.314967 Acc: 0.8750\n",
      "Train Epoch: 25 [6400/50000] Loss: 0.274529 Acc: 0.9375\n",
      "Train Epoch: 25 [9600/50000] Loss: 0.215552 Acc: 0.9688\n",
      "Train Epoch: 25 [12800/50000] Loss: 0.468623 Acc: 0.8125\n",
      "Train Epoch: 25 [16000/50000] Loss: 0.305125 Acc: 0.8750\n",
      "Train Epoch: 25 [19200/50000] Loss: 0.304258 Acc: 0.8750\n",
      "Train Epoch: 25 [22400/50000] Loss: 0.480349 Acc: 0.8125\n",
      "Train Epoch: 25 [25600/50000] Loss: 0.305582 Acc: 0.9062\n",
      "Train Epoch: 25 [28800/50000] Loss: 0.264724 Acc: 0.9062\n",
      "Train Epoch: 25 [32000/50000] Loss: 0.392751 Acc: 0.8750\n",
      "Train Epoch: 25 [35200/50000] Loss: 0.388596 Acc: 0.9062\n",
      "Train Epoch: 25 [38400/50000] Loss: 0.195983 Acc: 0.9375\n",
      "Train Epoch: 25 [41600/50000] Loss: 0.224563 Acc: 0.9375\n",
      "Train Epoch: 25 [44800/50000] Loss: 0.295526 Acc: 0.9375\n",
      "Train Epoch: 25 [48000/50000] Loss: 0.272780 Acc: 0.9062\n",
      "Elapsed 6608.19s, 254.16 s/epoch, 0.16 s/batch, ets 1016.64s\n",
      "\n",
      "Test set: Average loss: 0.7470, Accuracy: 7627/10000 (76%)\n",
      "\n",
      "Train Epoch: 26 [3200/50000] Loss: 0.264820 Acc: 0.9062\n",
      "Train Epoch: 26 [6400/50000] Loss: 0.353102 Acc: 0.8438\n",
      "Train Epoch: 26 [9600/50000] Loss: 0.332557 Acc: 0.8750\n",
      "Train Epoch: 26 [12800/50000] Loss: 0.188086 Acc: 0.9375\n",
      "Train Epoch: 26 [16000/50000] Loss: 0.217114 Acc: 0.9375\n",
      "Train Epoch: 26 [19200/50000] Loss: 0.308726 Acc: 0.8438\n",
      "Train Epoch: 26 [22400/50000] Loss: 0.613749 Acc: 0.7188\n",
      "Train Epoch: 26 [25600/50000] Loss: 0.273169 Acc: 0.9375\n",
      "Train Epoch: 26 [28800/50000] Loss: 0.290852 Acc: 0.9062\n",
      "Train Epoch: 26 [32000/50000] Loss: 0.272744 Acc: 0.8750\n",
      "Train Epoch: 26 [35200/50000] Loss: 0.357008 Acc: 0.8438\n",
      "Train Epoch: 26 [38400/50000] Loss: 0.545171 Acc: 0.7812\n",
      "Train Epoch: 26 [41600/50000] Loss: 0.321121 Acc: 0.8750\n",
      "Train Epoch: 26 [44800/50000] Loss: 0.416798 Acc: 0.8125\n",
      "Train Epoch: 26 [48000/50000] Loss: 0.189001 Acc: 0.9062\n",
      "Elapsed 6867.44s, 254.35 s/epoch, 0.16 s/batch, ets 763.05s\n",
      "\n",
      "Test set: Average loss: 0.7138, Accuracy: 7769/10000 (78%)\n",
      "\n",
      "Train Epoch: 27 [3200/50000] Loss: 0.165034 Acc: 0.9688\n",
      "Train Epoch: 27 [6400/50000] Loss: 0.273372 Acc: 0.9375\n",
      "Train Epoch: 27 [9600/50000] Loss: 0.226501 Acc: 0.9062\n",
      "Train Epoch: 27 [12800/50000] Loss: 0.171989 Acc: 0.9375\n",
      "Train Epoch: 27 [16000/50000] Loss: 0.124326 Acc: 0.9688\n",
      "Train Epoch: 27 [19200/50000] Loss: 0.445508 Acc: 0.8438\n",
      "Train Epoch: 27 [22400/50000] Loss: 0.304457 Acc: 0.8438\n",
      "Train Epoch: 27 [25600/50000] Loss: 0.137721 Acc: 0.9375\n",
      "Train Epoch: 27 [28800/50000] Loss: 0.246321 Acc: 0.8750\n",
      "Train Epoch: 27 [32000/50000] Loss: 0.248887 Acc: 0.8750\n",
      "Train Epoch: 27 [35200/50000] Loss: 0.177593 Acc: 0.9375\n",
      "Train Epoch: 27 [38400/50000] Loss: 0.120656 Acc: 0.9688\n",
      "Train Epoch: 27 [41600/50000] Loss: 0.185082 Acc: 0.9688\n",
      "Train Epoch: 27 [44800/50000] Loss: 0.295167 Acc: 0.9062\n",
      "Train Epoch: 27 [48000/50000] Loss: 0.375813 Acc: 0.8438\n",
      "Elapsed 7120.37s, 254.30 s/epoch, 0.16 s/batch, ets 508.60s\n",
      "\n",
      "Test set: Average loss: 0.9206, Accuracy: 7321/10000 (73%)\n",
      "\n",
      "Train Epoch: 28 [3200/50000] Loss: 0.118660 Acc: 1.0000\n",
      "Train Epoch: 28 [6400/50000] Loss: 0.285653 Acc: 0.9375\n",
      "Train Epoch: 28 [9600/50000] Loss: 0.342427 Acc: 0.8750\n",
      "Train Epoch: 28 [12800/50000] Loss: 0.297001 Acc: 0.9062\n",
      "Train Epoch: 28 [16000/50000] Loss: 0.203014 Acc: 0.9375\n",
      "Train Epoch: 28 [19200/50000] Loss: 0.305164 Acc: 0.9062\n",
      "Train Epoch: 28 [22400/50000] Loss: 0.175459 Acc: 0.9688\n",
      "Train Epoch: 28 [25600/50000] Loss: 0.241937 Acc: 0.9375\n",
      "Train Epoch: 28 [28800/50000] Loss: 0.237794 Acc: 0.9062\n",
      "Train Epoch: 28 [32000/50000] Loss: 0.224560 Acc: 0.9062\n",
      "Train Epoch: 28 [35200/50000] Loss: 0.231863 Acc: 0.9375\n",
      "Train Epoch: 28 [38400/50000] Loss: 0.220085 Acc: 0.9375\n",
      "Train Epoch: 28 [41600/50000] Loss: 0.242913 Acc: 0.9062\n",
      "Train Epoch: 28 [44800/50000] Loss: 0.240538 Acc: 0.8438\n",
      "Train Epoch: 28 [48000/50000] Loss: 0.185289 Acc: 0.9375\n",
      "Elapsed 7372.31s, 254.22 s/epoch, 0.16 s/batch, ets 254.22s\n",
      "\n",
      "Test set: Average loss: 0.8117, Accuracy: 7558/10000 (76%)\n",
      "\n",
      "Train Epoch: 29 [3200/50000] Loss: 0.227135 Acc: 0.9062\n",
      "Train Epoch: 29 [6400/50000] Loss: 0.197009 Acc: 0.9375\n",
      "Train Epoch: 29 [9600/50000] Loss: 0.105415 Acc: 0.9688\n",
      "Train Epoch: 29 [12800/50000] Loss: 0.135343 Acc: 1.0000\n",
      "Train Epoch: 29 [16000/50000] Loss: 0.253125 Acc: 0.9062\n",
      "Train Epoch: 29 [19200/50000] Loss: 0.156705 Acc: 0.9375\n",
      "Train Epoch: 29 [22400/50000] Loss: 0.165910 Acc: 0.9375\n",
      "Train Epoch: 29 [25600/50000] Loss: 0.173164 Acc: 0.9688\n",
      "Train Epoch: 29 [28800/50000] Loss: 0.356742 Acc: 0.9062\n",
      "Train Epoch: 29 [32000/50000] Loss: 0.271211 Acc: 0.9062\n",
      "Train Epoch: 29 [35200/50000] Loss: 0.280909 Acc: 0.9375\n",
      "Train Epoch: 29 [38400/50000] Loss: 0.314088 Acc: 0.8438\n",
      "Train Epoch: 29 [41600/50000] Loss: 0.365933 Acc: 0.8750\n",
      "Train Epoch: 29 [44800/50000] Loss: 0.177536 Acc: 0.9688\n",
      "Train Epoch: 29 [48000/50000] Loss: 0.052708 Acc: 1.0000\n",
      "Elapsed 7617.05s, 253.90 s/epoch, 0.16 s/batch, ets 0.00s\n",
      "\n",
      "Test set: Average loss: 0.8008, Accuracy: 7684/10000 (77%)\n",
      "\n",
      "Total time: 7628.77, Best Loss: 0.669\n"
     ]
    }
   ],
   "source": [
    "if required_training:\n",
    "    model, epoch_train_loss, epoch_train_acc, epoch_test_loss, epoch_test_acc = main()"
   ]
  },
  {
   "cell_type": "markdown",
   "metadata": {
    "deletable": false,
    "editable": false,
    "nbgrader": {
     "grade": false,
     "locked": true,
     "solution": false
    }
   },
   "source": [
    "# <font style=\"color:blue\">12. Plot Loss</font>"
   ]
  },
  {
   "cell_type": "code",
   "execution_count": 24,
   "metadata": {
    "deletable": false,
    "editable": false,
    "lines_to_next_cell": 2,
    "nbgrader": {
     "grade": false,
     "locked": true,
     "solution": false
    }
   },
   "outputs": [
    {
     "data": {
      "image/png": "[encoded data removed]",
      "text/plain": [
       "<Figure size 720x432 with 1 Axes>"
      ]
     },
     "metadata": {
      "needs_background": "light"
     },
     "output_type": "display_data"
    }
   ],
   "source": [
    "# Plot loss\n",
    "plt.rcParams[\"figure.figsize\"] = (10, 6)\n",
    "x = range(len(epoch_train_loss))\n",
    "\n",
    "\n",
    "plt.figure\n",
    "plt.plot(x, epoch_train_loss, color='r', label=\"train loss\")\n",
    "plt.plot(x, epoch_test_loss, color='b', label=\"validation loss\")\n",
    "plt.xlabel('epoch no.')\n",
    "plt.ylabel('loss')\n",
    "plt.legend(loc='upper right')\n",
    "plt.title('Training and Validation Loss')\n",
    "plt.show()"
   ]
  },
  {
   "cell_type": "markdown",
   "metadata": {
    "deletable": false,
    "editable": false,
    "nbgrader": {
     "grade": false,
     "locked": true,
     "solution": false
    }
   },
   "source": [
    "# <font style=\"color:blue\">13. Plot Accuracy</font>"
   ]
  },
  {
   "cell_type": "code",
   "execution_count": 25,
   "metadata": {
    "deletable": false,
    "editable": false,
    "nbgrader": {
     "grade": false,
     "locked": true,
     "solution": false
    }
   },
   "outputs": [
    {
     "data": {
      "image/png": "[encoded data removed]",
      "text/plain": [
       "<Figure size 720x432 with 1 Axes>"
      ]
     },
     "metadata": {
      "needs_background": "light"
     },
     "output_type": "display_data"
    }
   ],
   "source": [
    "# Plot loss\n",
    "plt.rcParams[\"figure.figsize\"] = (10, 6)\n",
    "x = range(len(epoch_train_loss))\n",
    "\n",
    "\n",
    "plt.figure\n",
    "plt.plot(x, epoch_train_acc, color='r', label=\"train accuracy\")\n",
    "plt.plot(x, epoch_test_acc, color='b', label=\"validation accuracy\")\n",
    "plt.xlabel('epoch no.')\n",
    "plt.ylabel('accuracy')\n",
    "plt.legend(loc='center right')\n",
    "plt.title('Training and Validation Accuracy')\n",
    "plt.show()"
   ]
  },
  {
   "cell_type": "markdown",
   "metadata": {
    "deletable": false,
    "editable": false,
    "nbgrader": {
     "grade": false,
     "locked": true,
     "solution": false
    }
   },
   "source": [
    "# <font style=\"color:blue\">14. Loading the Model </font>\n"
   ]
  },
  {
   "cell_type": "code",
   "execution_count": 26,
   "metadata": {
    "deletable": false,
    "editable": false,
    "nbgrader": {
     "grade": false,
     "locked": true,
     "solution": false
    }
   },
   "outputs": [
    {
     "data": {
      "text/plain": [
       "<All keys matched successfully>"
      ]
     },
     "execution_count": 26,
     "metadata": {},
     "output_type": "execute_result"
    }
   ],
   "source": [
    "# initialize the model\n",
    "cnn_model = MyModel()\n",
    "\n",
    "models = 'models'\n",
    "\n",
    "model_file_name = 'cifar10_cnn_model.pt'\n",
    "\n",
    "model_path = os.path.join(models, model_file_name)\n",
    "\n",
    "# loading the model and getting model parameters by using load_state_dict\n",
    "cnn_model.load_state_dict(torch.load(model_path))"
   ]
  },
  {
   "cell_type": "markdown",
   "metadata": {
    "deletable": false,
    "editable": false,
    "nbgrader": {
     "grade": false,
     "locked": true,
     "solution": false
    }
   },
   "source": [
    "# <font style=\"color:blue\">15. Model Prediction</font>\n"
   ]
  },
  {
   "cell_type": "code",
   "execution_count": 27,
   "metadata": {
    "collapsed": true,
    "deletable": false,
    "editable": false,
    "nbgrader": {
     "grade": false,
     "locked": true,
     "solution": false
    }
   },
   "outputs": [],
   "source": [
    "def prediction(model, train_config, batch_input):\n",
    "    \n",
    "    # send model to cpu/cuda according to your system configuration\n",
    "    model.to(train_config.device)\n",
    "    \n",
    "    # it is important to do model.eval() before prediction\n",
    "    model.eval()\n",
    "\n",
    "    data = batch_input.to(train_config.device)\n",
    "\n",
    "    output = model(data)\n",
    "\n",
    "    # Score to probability using softmax\n",
    "    prob = F.softmax(output, dim=1)\n",
    "\n",
    "    # get the max probability\n",
    "    pred_prob = prob.data.max(dim=1)[0]\n",
    "    \n",
    "    # get the index of the max probability\n",
    "    pred_index = prob.data.max(dim=1)[1]\n",
    "    \n",
    "    return pred_index.cpu().numpy(), pred_prob.cpu().numpy()"
   ]
  },
  {
   "cell_type": "markdown",
   "metadata": {
    "deletable": false,
    "editable": false,
    "nbgrader": {
     "grade": false,
     "locked": true,
     "solution": false
    }
   },
   "source": [
    "# <font style=\"color:blue\">16. Perform Inference on sample images </font>\n",
    "\n",
    "For prediction, we need to transform the data in the same way as we have done during training. "
   ]
  },
  {
   "cell_type": "code",
   "execution_count": 28,
   "metadata": {
    "deletable": false,
    "editable": false,
    "lines_to_next_cell": 2,
    "nbgrader": {
     "grade": false,
     "locked": true,
     "solution": false
    }
   },
   "outputs": [
    {
     "data": {
      "image/png": "[encoded data removed]",
      "text/plain": [
       "<Figure size 216x216 with 1 Axes>"
      ]
     },
     "metadata": {
      "needs_background": "light"
     },
     "output_type": "display_data"
    },
    {
     "data": {
      "image/png": "[encoded data removed]",
      "text/plain": [
       "<Figure size 216x216 with 1 Axes>"
      ]
     },
     "metadata": {
      "needs_background": "light"
     },
     "output_type": "display_data"
    },
    {
     "data": {
      "image/png": "[encoded data removed]",
      "text/plain": [
       "<Figure size 216x216 with 1 Axes>"
      ]
     },
     "metadata": {
      "needs_background": "light"
     },
     "output_type": "display_data"
    },
    {
     "data": {
      "image/png": "[encoded data removed]",
      "text/plain": [
       "<Figure size 216x216 with 1 Axes>"
      ]
     },
     "metadata": {
      "needs_background": "light"
     },
     "output_type": "display_data"
    },
    {
     "data": {
      "image/png": "[encoded data removed]",
      "text/plain": [
       "<Figure size 216x216 with 1 Axes>"
      ]
     },
     "metadata": {
      "needs_background": "light"
     },
     "output_type": "display_data"
    }
   ],
   "source": [
    "classes = ('plane', 'car', 'bird', 'cat', 'deer', 'dog', 'frog', 'horse', 'ship', 'truck')\n",
    "\n",
    "batch_size = 5\n",
    "train_config = TrainingConfiguration()\n",
    "\n",
    "if torch.cuda.is_available():\n",
    "    train_config.device = \"cuda\"\n",
    "else:\n",
    "    train_config.device = \"cpu\"\n",
    "    \n",
    "    \n",
    "\n",
    "# load test data without image transformation\n",
    "test = torch.utils.data.DataLoader(\n",
    "    datasets.CIFAR10(root=train_config.data_root, train=False, download=False, \n",
    "                   transform=transforms.functional.to_tensor),\n",
    "    batch_size=batch_size,\n",
    "    shuffle=False,\n",
    "    num_workers=1\n",
    "    )\n",
    "\n",
    "try:\n",
    "    mean, std = get_mean_std_train_data(data_root)\n",
    "    assert len(mean) == len(std) == 3\n",
    "except:\n",
    "    mean = (0.5, 0.5, 0.5)\n",
    "    std = (0.5, 0.5, 0.5)\n",
    "\n",
    "# load testdata with image transformation\n",
    "image_transforms = transforms.Compose([\n",
    "    transforms.ToTensor(),\n",
    "    transforms.Normalize(mean, std)\n",
    "    ])\n",
    "\n",
    "test_trans = torch.utils.data.DataLoader(\n",
    "    datasets.CIFAR10(root=train_config.data_root, train=False, download=False, transform=image_transforms),\n",
    "    batch_size=batch_size,\n",
    "    shuffle=False,\n",
    "    num_workers=1\n",
    "    )\n",
    "\n",
    "for data, _ in test_trans:\n",
    "    # pass the loaded model\n",
    "    pred, prob = prediction(cnn_model, train_config, data)\n",
    "    break\n",
    "    \n",
    "\n",
    "plt.rcParams[\"figure.figsize\"] = (3, 3)\n",
    "for images, label in test:\n",
    "    for i, img in enumerate(images):\n",
    "        img = transforms.functional.to_pil_image(img)\n",
    "        plt.imshow(img)\n",
    "        plt.gca().set_title('Pred: {0}({1:0.2}), Label: {2}'.format(classes[pred[i]], prob[i], classes[label[i]]))\n",
    "        plt.show()\n",
    "    break"
   ]
  },
  {
   "cell_type": "markdown",
   "metadata": {},
   "source": [
    "# <font style=\"color:blue\">17. Report your findings</font>\n",
    "- \n",
    "- "
   ]
  },
  {
   "cell_type": "markdown",
   "metadata": {
    "deletable": false,
    "editable": false,
    "nbgrader": {
     "grade": false,
     "locked": true,
     "solution": false
    }
   },
   "source": [
    "# <font style=\"color:blue\">References</font>\n",
    "\n",
    "1. https://pytorch.org/tutorials/beginner/data_loading_tutorial.html\n",
    "1. https://pytorch.org/tutorials/beginner/saving_loading_models.html"
   ]
  }
 ],
 "metadata": {
  "kernelspec": {
   "display_name": "Python 3.7",
   "language": "python",
   "name": "python37"
  },
  "language_info": {
   "codemirror_mode": {
    "name": "ipython",
    "version": 3
   },
   "file_extension": ".py",
   "mimetype": "text/x-python",
   "name": "python",
   "nbconvert_exporter": "python",
   "pygments_lexer": "ipython3",
   "version": "3.7.5"
  }
 },
 "nbformat": 4,
 "nbformat_minor": 2
}
