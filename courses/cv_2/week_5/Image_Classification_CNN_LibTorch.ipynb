{
  "nbformat": 4,
  "nbformat_minor": 0,
  "metadata": {
    "kernelspec": {
      "name": "python3",
      "display_name": "Python 3"
    },
    "language_info": {
      "codemirror_mode": {
        "name": "ipython",
        "version": 3
      },
      "file_extension": ".py",
      "mimetype": "text/x-python",
      "name": "python",
      "nbconvert_exporter": "python",
      "pygments_lexer": "ipython3",
      "version": "3.7.5"
    },
    "colab": {
      "name": "Image_Classification_CNN_LibTorch.ipynb",
      "provenance": [],
      "toc_visible": true
    },
    "accelerator": "GPU"
  },
  "cells": [
    {
      "cell_type": "markdown",
      "metadata": {
        "id": "C9Ryyeej9_R1",
        "colab_type": "text"
      },
      "source": [
        "# <font style=\"color:rgb(50,120,229)\">Motivation </font>\n",
        "Earlier, we have used Multilayer Perceptron for image classification on Fashion MNIST. We have achieved accuracy of 85% on test data. To improve the accuracy further if we choose to add more hidden layers, the number of parameters will grow high (N1xN2xN3..., N(ith layer) - number of nodes) and also leads to redundancy in learning. Another disadvantage of MLP is it doesn't learn spatial information. In Convolutional Neural Network, we can account for spatial information and also increase the number of layers where the weights are smaller and shared. This makes CNN easy to train than MLP for more number of layers. Now, lets see how CNN learns spatial information\n",
        "compared to MLP.\n",
        "\n",
        "Given below is an example of the first test image which corresponds to the `Boot` class. The image is shifted by some amount to the top and bottom. The classifier predicts it correctly for the centered image but fails in the other two cases. To make it work for these images, either we have to train separate MLPs for different locations or we have to make sure that we have all these variations in the training set as well, which I would say is difficult, if not impossible.\n",
        "\n",
        "<img src=\"https://www.learnopencv.com/wp-content/uploads/2019/12/mlp-shift-failure.jpg\" width=\"900\">\n",
        "\n",
        "The Fully connected network tries to learn global features or patterns. It acts as a good classifier.\n",
        "\n",
        "Another major problem with a fully connected classifier is that the number of parameters increases very fast since each node in layer L is connected to a node in layer L-1. So it is not feasible to design very deep networks using an MLP structure alone.\n",
        "\n",
        "Both the above problems are solved to a great extent by using Convolutional Neural Networks.\n",
        "\n",
        "Here, we are going to implement CNN using libtorch."
      ]
    },
    {
      "cell_type": "markdown",
      "metadata": {
        "id": "hXeiaMo89_R3",
        "colab_type": "text"
      },
      "source": [
        "## <font style=\"color:rgb(50,120,229)\">Import Libraries </font>\n",
        "\n",
        "Import required libraries and define constants like\n",
        "- batchSize\n",
        "- epoch\n",
        "- logInterval\n",
        "- Images path of train and test\n",
        "- Labels path of train and test\n",
        "- Torch device(it is specified to use GPU if available else CPU)"
      ]
    },
    {
      "cell_type": "markdown",
      "metadata": {
        "id": "Lj6KkrY09_R4",
        "colab_type": "text"
      },
      "source": [
        "```cpp\n",
        "#include <stdint.h>\n",
        "#include <torch/torch.h>\n",
        "#include <iostream>\n",
        "#include <string>\n",
        "#include <vector>\n",
        "#include <opencv2/core/core.hpp>\n",
        "#include <opencv2/opencv.hpp>\n",
        "#include <opencv2/highgui/highgui.hpp>\n",
        "#include \"read-mnist.h\"\n",
        "\n",
        "struct Options {\n",
        "  int batchSize = 256; //Batch size\n",
        "  size_t epochs = 10; // Number of epochs\n",
        "  size_t logInterval = 20;\n",
        "  //Paths to train and test images and labels\n",
        "  const char* trainImagesPath = \"train-images-idx3-ubyte\";\n",
        "  const char* trainLabelsPath = \"train-labels-idx1-ubyte\";\n",
        "  const char* testImagesPath = \"t10k-images-idx3-ubyte\";\n",
        "  const char* testLabelsPath = \"t10k-labels-idx1-ubyte\";\n",
        "  torch::DeviceType device = torch::kCPU;\n",
        "};\n",
        "\n",
        "static Options options;\n",
        "```"
      ]
    },
    {
      "cell_type": "markdown",
      "metadata": {
        "id": "SUONI0Qu9_R6",
        "colab_type": "text"
      },
      "source": [
        "# <font style=\"color:rgb(50,120,229)\">1. Convolutional Neural network</font>\n",
        "We will use Convolutional Neural Network of 3 convolutional blocks and 3 fully connected layers(including output). Convolutional block consists of 2 convolutional layers, 1 max pooling layer and then dropout to be added.\n",
        "\n",
        "All the layers are defined with parameters and registered as modules. Then the network is implemented using these layers in order along with activation functions.\n",
        "\n",
        "We need to apply log softmax on the output to get the probabilities of all the classes."
      ]
    },
    {
      "cell_type": "markdown",
      "metadata": {
        "id": "gcp5nuqx9_R7",
        "colab_type": "text"
      },
      "source": [
        "```cpp\n",
        "struct Net: torch::nn::Module {\n",
        "    Net() {\n",
        "        //Convolutional layer 1: 32 filters, 3x3 Kernel size, padding=1\n",
        "        //torch::nn::Conv2dOptions(input_channels, output_channels, kernel_size).padding(p).stride(s) and similarly other options\n",
        "        conv1_1 = register_module(\"conv1_1\", torch::nn::Conv2d(torch::nn::Conv2dOptions(1, 32, 3).padding(1)));\n",
        "        //Convolutional layer 2: 32 filters, 3x3 Kernel size, padding=0\n",
        "        conv1_2 = register_module(\"conv1_2\", torch::nn::Conv2d(torch::nn::Conv2dOptions(32, 32, 3)));\n",
        "        // Insert pool layer (poolsize-[2,2])\n",
        "        dp1 = register_module(\"dp1\", torch::nn::Dropout(0.25));\n",
        "\n",
        "        //Convolutional layer 3: 64 filters, 3x3 Kernel size, padding=1\n",
        "        conv2_1 = register_module(\"conv2_1\", torch::nn::Conv2d(torch::nn::Conv2dOptions(32, 64, 3).padding(1)));\n",
        "        //Convolutional layer 4: 64 filters, 3x3 Kernel size, padding=0\n",
        "        conv2_2 = register_module(\"conv2_2\", torch::nn::Conv2d(torch::nn::Conv2dOptions(64, 64, 3)));\n",
        "        // Insert pool layer (poolsize-[2,2])\n",
        "        dp2 = register_module(\"dp2\", torch::nn::Dropout(0.25));\n",
        "\n",
        "        //Convolutional layer 5: 64 filters, 3x3 Kernel size, padding=1\n",
        "        conv3_1 = register_module(\"conv3_1\", torch::nn::Conv2d(torch::nn::Conv2dOptions(64, 64, 3).padding(1)));\n",
        "        //Convolutional layer 6: 32 filters, 3x3 Kernel size, padding=0\n",
        "        conv3_2 = register_module(\"conv3_2\", torch::nn::Conv2d(torch::nn::Conv2dOptions(64, 64, 3)));\n",
        "        // Insert pool layer (poolsize-[2,2])\n",
        "        dp3 = register_module(\"dp3\", torch::nn::Dropout(0.25));\n",
        "        \n",
        "        //Fully connected layer - torch::nn:Linear(input_size, output_size(number of neurons))\n",
        "        fc1 = register_module(\"fc1\", torch::nn::Linear(64, 512));\n",
        "        fc2 = register_module(\"fc2\", torch::nn::Linear(512, 512));\n",
        "        fc3 = register_module(\"fc3\", torch::nn::Linear(512, 10));\n",
        "    }\n",
        "\n",
        "    // Implement Algorithm\n",
        "    torch::Tensor forward(torch::Tensor x) {\n",
        "        x = torch::relu(conv1_1->forward(x));\n",
        "        x = torch::relu(conv1_2->forward(x));\n",
        "        x = torch::max_pool2d(x, 2);\n",
        "        x = dp1(x);\n",
        "\n",
        "        x = torch::relu(conv2_1->forward(x));\n",
        "        x = torch::relu(conv2_2->forward(x));\n",
        "        x = torch::max_pool2d(x, 2);\n",
        "        x = dp2(x);\n",
        "\n",
        "        x = torch::relu(conv3_1->forward(x));\n",
        "        x = torch::relu(conv3_2->forward(x));\n",
        "        x = torch::max_pool2d(x, 2);\n",
        "        x = dp3(x);\n",
        "\n",
        "        x = x.view({-1, 64});\n",
        "\n",
        "        x = torch::relu(fc1->forward(x));\n",
        "        x = torch::relu(fc2->forward(x));\n",
        "        x = fc3->forward(x);\n",
        "\n",
        "        return torch::log_softmax(x, 1);\n",
        "    }\n",
        "\n",
        "    // Declare layers\n",
        "    torch::nn::Conv2d conv1_1{nullptr};\n",
        "    torch::nn::Conv2d conv1_2{nullptr};\n",
        "    torch::nn::Conv2d conv2_1{nullptr};\n",
        "    torch::nn::Conv2d conv2_2{nullptr};\n",
        "    torch::nn::Conv2d conv3_1{nullptr};\n",
        "    torch::nn::Conv2d conv3_2{nullptr};\n",
        "    torch::nn::Dropout dp1{nullptr}, dp2{nullptr}, dp3{nullptr};\n",
        "\n",
        "    torch::nn::Linear fc1{nullptr}, fc2{nullptr}, fc3{nullptr};\n",
        "};\n",
        "```"
      ]
    },
    {
      "cell_type": "markdown",
      "metadata": {
        "id": "oakFG4M39_R8",
        "colab_type": "text"
      },
      "source": [
        "# <font style=\"color:rgb(50,120,229)\">2. Load the Data</font>\n",
        "In libtorch, Fashion MNIST is not a built-in dataset so we need to custom load the data. This dataset is available in ubyte(eg:train-images-idx3-ubyte) format files. This format files are explained here - http://yann.lecun.com/exdb/mnist/.\n",
        "\n",
        "We have 2 different files for images and labels in case of both train and test data. We will use Custom Dataset Class like we did for linear regression earlier to process the data and convert to tensor form. Normalization of images is also performed in read-mnist.h after tensor conversion. "
      ]
    },
    {
      "cell_type": "markdown",
      "metadata": {
        "id": "YTjxjKfi9_R8",
        "colab_type": "text"
      },
      "source": [
        "```cpp\n",
        "//Read images from ubyte format and convert to tensors\n",
        "torch::Tensor process_images(const std::string& root, bool train) {\n",
        "  const auto path = root + (train ? options.trainImagesPath: options.testImagesPath); //images_path\n",
        "  auto images = read_mnist_images(path);\n",
        "\n",
        "  return images;\n",
        "}\n",
        "\n",
        "//Read labels from ubyte format and convert to tensors\n",
        "torch::Tensor process_labels(const std::string& root, bool train) {\n",
        "  const auto path = root + (train ? options.trainLabelsPath: options.testLabelsPath); //labels_path\n",
        "  auto labels = read_mnist_labels(path);\n",
        "\n",
        "  return labels;\n",
        "}\n",
        "\n",
        "\n",
        "//Use CustomDataset class to load any type of dataset other than inbuilt datasets\n",
        "class CustomDataset : public torch::data::datasets::Dataset<CustomDataset> {\n",
        "    private:\n",
        "    // data should be 2 tensors\n",
        "        torch::Tensor images, labels;\n",
        "        size_t img_size;\n",
        "    public:\n",
        "        CustomDataset(const std::string& root, bool train) {\n",
        "            images = process_images(root, train);\n",
        "            labels = process_labels(root, train);\n",
        "            img_size = images.size(0);\n",
        "        }\n",
        "\n",
        "        //Returns the data sample at the given `index\n",
        "        torch::data::Example<> get(size_t index) override {\n",
        "            // This should return {torch::Tensor, torch::Tensor}\n",
        "            torch::Tensor img = images[index];\n",
        "            torch::Tensor label = labels[index];\n",
        "            return {img.clone(), label.clone()};\n",
        "        };\n",
        "    \n",
        "    torch::optional<size_t> size() const override {\n",
        "        return img_size;\n",
        "    };\n",
        "};\n",
        "```"
      ]
    },
    {
      "cell_type": "markdown",
      "metadata": {
        "id": "fD49oxFA9_R9",
        "colab_type": "text"
      },
      "source": [
        "# <font style=\"color:rgb(50,120,229)\">3. Train the Model</font>\n",
        "Training data is passed in set of batches and **negative log likelihood** loss function is used to calculate the loss. Then the loss function is passed through **Adam** optimizer which is defined in the main().\n",
        "\n",
        "Following are the major functions of training the network\n",
        "- Initialize the network in training mode\n",
        "        \n",
        "        network->train()\n",
        "- Uses negative log likelihood loss\n",
        "        \n",
        "        torch::nll_loss(output, targets)\n",
        "- Computes the gradients in the network\n",
        "        \n",
        "        loss.backward()\n",
        "- Updates the parameters of the network using the computed gradients\n",
        "        \n",
        "        optimizer.step()"
      ]
    },
    {
      "cell_type": "markdown",
      "metadata": {
        "id": "OerjBG8B9_R-",
        "colab_type": "text"
      },
      "source": [
        "```cpp\n",
        "template <typename DataLoader>\n",
        "void train(std::shared_ptr<Net> network, DataLoader& loader, torch::optim::Optimizer& optimizer, size_t epoch, size_t data_size) {\n",
        "  size_t index = 0;\n",
        "  //Set network in the training mode\n",
        "  network->train();\n",
        "  float Loss = 0, Acc = 0;\n",
        "\n",
        "  for (auto& batch : loader) {\n",
        "    auto data = batch.data.to(options.device);\n",
        "    auto targets = batch.target.to(options.device).view({-1});\n",
        "    // Execute the model on the input data\n",
        "    auto output = network->forward(data);\n",
        "\n",
        "    //Using mean square error loss function to compute loss\n",
        "    auto loss = torch::nll_loss(output, targets);\n",
        "    auto acc = output.argmax(1).eq(targets).sum();\n",
        "\n",
        "    // Reset gradients\n",
        "    optimizer.zero_grad();\n",
        "    // Compute gradients\n",
        "    loss.backward();\n",
        "    //Update the parameters\n",
        "    optimizer.step();\n",
        "\n",
        "    Loss += loss.template item<float>();\n",
        "    Acc += acc.template item<float>();\n",
        "  }\n",
        "\n",
        "  if (index++ % options.logInterval == 0) {\n",
        "    auto end = data_size;\n",
        "\n",
        "    std::cout << \"Train Epoch: \" << epoch << \" \" << end << \"/\" << data_size\n",
        "              << \"\\tLoss: \" << Loss / end << \"\\tAcc: \" << Acc / end\n",
        "              << std::endl;\n",
        "  }\n",
        "};\n",
        "```"
      ]
    },
    {
      "cell_type": "markdown",
      "metadata": {
        "id": "bpISefWY9_R_",
        "colab_type": "text"
      },
      "source": [
        "# <font style=\"color:rgb(50,120,229)\">4. Test the Model</font>\n",
        "Similar to the above, the test data is passed through the trained network. Loss is calculated on test data at each epoch. After all epochs, 3 sample outputs and their ground truth are displayed.\n",
        "\n",
        "Following are the major functions of test the network\n",
        "- Initialize the network in testing mode\n",
        "      \n",
        "      network->eval()\n",
        "- Compute negative log likelihood loss\n",
        "    \n",
        "      torch::nll_loss(output, targets)"
      ]
    },
    {
      "cell_type": "markdown",
      "metadata": {
        "id": "BxSADjl29_SA",
        "colab_type": "text"
      },
      "source": [
        "```cpp\n",
        "void test(std::shared_ptr<Net> network, DataLoader& loader, size_t epoch, size_t data_size) {\n",
        "  network->eval();\n",
        "  size_t index = 0;\n",
        "  float Loss = 0, Acc = 0;\n",
        "  int display_count = 0;\n",
        "\n",
        "  for (const auto& batch : loader) {\n",
        "    auto data = batch.data.to(options.device);\n",
        "    auto targets = batch.target.to(options.device).view({-1});\n",
        "\n",
        "    auto output = network->forward(data);\n",
        "\n",
        "    //To display 3 test image and its output\n",
        "    if (display_count < 3 && epoch== options.epochs) {\n",
        "      cv::Mat test_image(28,28,CV_8UC1);\n",
        "      torch::Tensor tensor = data[display_count].mul_(255).clamp(0,255).to(torch::kU8);\n",
        "      tensor = tensor.to(torch::kCPU);\n",
        "      std::memcpy((void*)test_image.data,tensor.data_ptr(),sizeof(torch::kU8)*tensor.numel());\n",
        "\n",
        "      std::cout << \"***** TESTING on TEST IMAGE \" << display_count << \" *****\" << std::endl;\n",
        "      std::cout << \"GroundTruth: \" << targets[display_count].template item<float>()\n",
        "                << \", Prediction: \" << output[display_count].argmax() << std::endl;\n",
        "      std::cout << \"Output Probabilities\" << std::endl;\n",
        "      for (int i =0; i < output[display_count].size(0); i++) {\n",
        "        std::cout << \"Class: \" << i << \" \" << torch::exp(output[display_count])[i].template item<float>()  << std::endl;\n",
        "      }\n",
        "      cv::imwrite(\"OUTPUT_GT_\" + std::to_string(targets[display_count].template item<int>()) +\n",
        "                  \"_Pred_\" + std::to_string(output[display_count].argmax().template item<int>()) + \".jpg\", test_image);\n",
        "      std::cout << \"Outputs saved, Please checkout the output images\" << std::endl;\n",
        "\n",
        "      display_count++;\n",
        "    }\n",
        "\n",
        "    auto loss = torch::nll_loss(output, targets);\n",
        "    auto acc = output.argmax(1).eq(targets).sum();\n",
        "\n",
        "    Loss += loss.template item<float>();\n",
        "    Acc += acc.template item<float>();\n",
        "  }\n",
        "\n",
        "  //This block can be used inside for loop to see the training within each epoch\n",
        "  if (index++ % options.logInterval == 0) {\n",
        "    options.loss_acc_test << std::to_string(Loss/data_size) + \",\" + std::to_string(Acc/data_size) << std::endl;\n",
        "    std::cout << \"Val Epoch: \" << epoch\n",
        "              << \"\\tVal Loss: \" << Loss/data_size << \"\\tVal ACC:\"<< Acc/data_size << std::endl;\n",
        "  }\n",
        "}\n",
        "```"
      ]
    },
    {
      "cell_type": "markdown",
      "metadata": {
        "id": "yM7rNqf99_SA",
        "colab_type": "text"
      },
      "source": [
        "# <font style=\"color:rgb(50,120,229)\">5. Main function</font>\n",
        "Main function contains following steps:\n",
        "- **Data Processing**\n",
        "    - Data is processed within Custom Dataset Constructer and converted to tensors. Here, we already have separate\n",
        "      train and test data.\n",
        "          auto dataset = torch::data::datasets::MNIST(\"./mnist\")\n",
        "            .map(torch::data::transforms::Normalize<>(0.5, 0.5))\n",
        "            .map(torch::data::transforms::Stack<>());\n",
        "- **Data Loader**\n",
        "    - This provides options for batch size, number of workers to be used to speed up the data loading.\n",
        "            auto data_loader = torch::data::make_data_loader(\n",
        "                std::move(dataset),\n",
        "                torch::data::DataLoaderOptions().batch_size(kBatchSize).workers(2));\n",
        "- **Model Initialization**\n",
        "    - Define network parameters\n",
        "            struct Net : torch::nn::Module {};\n",
        "                void a(std::shared_ptr<Net> net) { }\n",
        "                int main() {\n",
        "                  auto net = std::make_shared<Net>();\n",
        "                  a(net);\n",
        "                }\n",
        "- **Training**\n",
        "    - Define the optimizer and call the train function epoch number of times and observe the loss values.\n",
        "            torch::optim::Adam generator_optimizer(\n",
        "            generator->parameters(), torch::optim::AdamOptions(2e-4).beta1(0.5));\n",
        "            train(net, *train_loader, generator_optimizer, epoch_number, train_dataset_size);\n",
        "- **Testing**\n",
        "    - Call the test function in each epoch and observe the loss values.\n",
        "            test(net, *test_loader, test_dataset_size);"
      ]
    },
    {
      "cell_type": "markdown",
      "metadata": {
        "id": "pe-NyGTV9_SB",
        "colab_type": "text"
      },
      "source": [
        "```cpp\n",
        "int main() {\n",
        "  //Use CUDA for computation if available\n",
        "  if (torch::cuda::is_available())\n",
        "    options.device = torch::kCUDA;\n",
        "  std::cout << \"Running on: \"\n",
        "            << (options.device == torch::kCUDA ? \"CUDA\" : \"CPU\") << std::endl;\n",
        "  //Path to Fashion Mnist\n",
        "  std::string root_string = \"./fashion-mnist/\";\n",
        "  bool isTrain = true; //Flag to create train or test data\n",
        "\n",
        "  //Uses Custom Dataset Class to load train data. Apply stack collation which takes \n",
        "  //batch of tensors and stacks them into single tensor along the first dimension\n",
        "  auto train_dataset = CustomDataset(root_string, isTrain).map(torch::data::transforms::Stack<>());\n",
        "  //Data Loader provides options to speed up the data loading like batch size, number of workers\n",
        "  auto train_loader = torch::data::make_data_loader<torch::data::samplers::RandomSampler>(\n",
        "    std::move(train_dataset), options.batchSize);\n",
        "  auto train_size = train_dataset.size().value();\n",
        "\n",
        "  //Process and load test dat similar to above\n",
        "  auto test_dataset = CustomDataset(root_string, false).map(torch::data::transforms::Stack<>());\n",
        "  auto test_loader = torch::data::make_data_loader<torch::data::samplers::RandomSampler>(\n",
        "    std::move(test_dataset), options.batchSize);\n",
        "  auto test_size = test_dataset.size().value();\n",
        "\n",
        "  //Create Feed forward network\n",
        "  auto net = std::make_shared<Net>();\n",
        "  //Moving model parameters to correct device\n",
        "  net->to(options.device);\n",
        "  // torch::load(net, \"net.pt\"); /*To use trained model*/\n",
        "\n",
        "  //Using Adam optimizer with beta1 as 0.5\n",
        "  torch::optim::Adam optimizer(net->parameters(), torch::optim::AdamOptions(5e-4).beta1(0.5));\n",
        "\n",
        "  for (size_t i = 0; i < options.epochs; i++) {\n",
        "    /*Run the training for all epochs*/\n",
        "    train(net, *train_loader, optimizer, i + 1, train_size);\n",
        "    std::cout << std::endl;\n",
        "    /*Run on the validation set for all epochs*/\n",
        "    test(net, *test_loader, i+1, test_size);\n",
        "    /*Save the network*/\n",
        "    torch::save(net, \"net.pt\");\n",
        "  }\n",
        "\n",
        "  return 0;\n",
        "}\n",
        "```"
      ]
    },
    {
      "cell_type": "markdown",
      "metadata": {
        "id": "goUeEGyR9_SC",
        "colab_type": "text"
      },
      "source": [
        "# <font style=\"color:rgb(50,120,229)\">6. Run inference on saved model</font>\n",
        "We load the saved network to run inference on test data. Initialize the network and then use\n",
        "        \n",
        "       torch::load(network, path_to_network)\n",
        "to load the network."
      ]
    },
    {
      "cell_type": "markdown",
      "metadata": {
        "id": "Po4QZo_U9_SD",
        "colab_type": "text"
      },
      "source": [
        "```cpp\n",
        "int main() {\n",
        "    /*Path to Fashion Mnist*/\n",
        "    std::string root_string = \"./fashion-mnist/\";\n",
        "\n",
        "    /*Process and load test dat similar to above*/\n",
        "    auto test_dataset = CustomDataset(root_string, false).map(torch::data::transforms::Stack<>());\n",
        "    auto test_loader = torch::data::make_data_loader<torch::data::samplers::RandomSampler>(\n",
        "        std::move(test_dataset), options.batch_size);\n",
        "    auto test_size = test_dataset.size().value();\n",
        "\n",
        "    auto net = std::make_shared<Net>();\n",
        "    torch::load(net, \"net.pt\");\n",
        "    test(net, *test_loader, options.epochs, test_size);\n",
        "\n",
        "    return 0;\n",
        "}\n",
        "```"
      ]
    },
    {
      "cell_type": "markdown",
      "metadata": {
        "id": "8C4jkRi59_SE",
        "colab_type": "text"
      },
      "source": [
        "# <font style=\"color:blue\">Steps to Compile and Run the Code on Google Colab</font>"
      ]
    },
    {
      "cell_type": "markdown",
      "metadata": {
        "id": "Que-9WAp9_SF",
        "colab_type": "text"
      },
      "source": [
        "## <font style=\"color:green\">Download LibTorch</font>"
      ]
    },
    {
      "cell_type": "code",
      "metadata": {
        "id": "YXBnlW-S9_SG",
        "colab_type": "code",
        "colab": {
          "base_uri": "https://localhost:8080/",
          "height": 204
        },
        "outputId": "e62b28c1-9e31-46ab-9579-42ae7c032957"
      },
      "source": [
        "!wget https://download.pytorch.org/libtorch/cu101/libtorch-shared-with-deps-1.3.1.zip -O libtorch.zip"
      ],
      "execution_count": 1,
      "outputs": [
        {
          "output_type": "stream",
          "text": [
            "--2020-01-04 19:13:01--  https://download.pytorch.org/libtorch/cu101/libtorch-shared-with-deps-1.3.1.zip\n",
            "Resolving download.pytorch.org (download.pytorch.org)... 13.224.29.48, 13.224.29.19, 13.224.29.73, ...\n",
            "Connecting to download.pytorch.org (download.pytorch.org)|13.224.29.48|:443... connected.\n",
            "HTTP request sent, awaiting response... 200 OK\n",
            "Length: 740942259 (707M) [application/zip]\n",
            "Saving to: ‘libtorch.zip’\n",
            "\n",
            "libtorch.zip        100%[===================>] 706.62M  50.9MB/s    in 14s     \n",
            "\n",
            "2020-01-04 19:13:16 (49.1 MB/s) - ‘libtorch.zip’ saved [740942259/740942259]\n",
            "\n"
          ],
          "name": "stdout"
        }
      ]
    },
    {
      "cell_type": "code",
      "metadata": {
        "id": "rqXOEgc79_SK",
        "colab_type": "code",
        "colab": {}
      },
      "source": [
        "!unzip libtorch.zip"
      ],
      "execution_count": 0,
      "outputs": []
    },
    {
      "cell_type": "code",
      "metadata": {
        "id": "7U-swR-s9_SM",
        "colab_type": "code",
        "colab": {}
      },
      "source": [
        "!rm -r libtorch.zip"
      ],
      "execution_count": 0,
      "outputs": []
    },
    {
      "cell_type": "markdown",
      "metadata": {
        "id": "a23ubXN-9_SP",
        "colab_type": "text"
      },
      "source": [
        "## <font style=\"color:green\">Download Code</font>"
      ]
    },
    {
      "cell_type": "code",
      "metadata": {
        "id": "t8GawlrN9_SP",
        "colab_type": "code",
        "colab": {
          "base_uri": "https://localhost:8080/",
          "height": 377
        },
        "outputId": "388405ce-59ab-4c00-92a4-1ae7c2d69149"
      },
      "source": [
        "!wget \"https://www.dropbox.com/s/v2l8r6b722hbiqr/cnn.zip?dl=1\" -O cnn.zip"
      ],
      "execution_count": 4,
      "outputs": [
        {
          "output_type": "stream",
          "text": [
            "--2020-01-04 19:13:43--  https://www.dropbox.com/s/v2l8r6b722hbiqr/cnn.zip?dl=1\n",
            "Resolving www.dropbox.com (www.dropbox.com)... 162.125.8.1, 2620:100:6016:1::a27d:101\n",
            "Connecting to www.dropbox.com (www.dropbox.com)|162.125.8.1|:443... connected.\n",
            "HTTP request sent, awaiting response... 301 Moved Permanently\n",
            "Location: /s/dl/v2l8r6b722hbiqr/cnn.zip [following]\n",
            "--2020-01-04 19:13:43--  https://www.dropbox.com/s/dl/v2l8r6b722hbiqr/cnn.zip\n",
            "Reusing existing connection to www.dropbox.com:443.\n",
            "HTTP request sent, awaiting response... 302 Found\n",
            "Location: https://uc6eaad76ab39949c227ecedf9cf.dl.dropboxusercontent.com/cd/0/get/AvhstswcU7MXXGGO2qzmshat_cThl6Lfn2I94McZd8oz_6ArWAE4lpbnVWObvWX41-RQYFb58xj3Ida7JEqzKvIaMVBOc6ojPfcuGYNtqtiCGpedBPz0t-DB4ZS2syMJDsU/file?dl=1# [following]\n",
            "--2020-01-04 19:13:43--  https://uc6eaad76ab39949c227ecedf9cf.dl.dropboxusercontent.com/cd/0/get/AvhstswcU7MXXGGO2qzmshat_cThl6Lfn2I94McZd8oz_6ArWAE4lpbnVWObvWX41-RQYFb58xj3Ida7JEqzKvIaMVBOc6ojPfcuGYNtqtiCGpedBPz0t-DB4ZS2syMJDsU/file?dl=1\n",
            "Resolving uc6eaad76ab39949c227ecedf9cf.dl.dropboxusercontent.com (uc6eaad76ab39949c227ecedf9cf.dl.dropboxusercontent.com)... 162.125.1.6, 2620:100:601b:6::a27d:806\n",
            "Connecting to uc6eaad76ab39949c227ecedf9cf.dl.dropboxusercontent.com (uc6eaad76ab39949c227ecedf9cf.dl.dropboxusercontent.com)|162.125.1.6|:443... connected.\n",
            "HTTP request sent, awaiting response... 200 OK\n",
            "Length: 30884209 (29M) [application/binary]\n",
            "Saving to: ‘cnn.zip’\n",
            "\n",
            "cnn.zip             100%[===================>]  29.45M  35.8MB/s    in 0.8s    \n",
            "\n",
            "2020-01-04 19:13:45 (35.8 MB/s) - ‘cnn.zip’ saved [30884209/30884209]\n",
            "\n"
          ],
          "name": "stdout"
        }
      ]
    },
    {
      "cell_type": "code",
      "metadata": {
        "id": "Avg7I3XM9_SS",
        "colab_type": "code",
        "colab": {
          "base_uri": "https://localhost:8080/",
          "height": 187
        },
        "outputId": "14408f86-a0a6-4291-9e08-d00335c5534d"
      },
      "source": [
        "!unzip cnn.zip"
      ],
      "execution_count": 5,
      "outputs": [
        {
          "output_type": "stream",
          "text": [
            "Archive:  cnn.zip\n",
            "   creating: cnn/\n",
            "  inflating: cnn/CMakeLists.txt      \n",
            "  inflating: cnn/CNN.cpp             \n",
            "   creating: cnn/fashion-mnist/\n",
            "  inflating: cnn/fashion-mnist/t10k-images-idx3-ubyte  \n",
            "  inflating: cnn/fashion-mnist/t10k-labels-idx1-ubyte  \n",
            "  inflating: cnn/fashion-mnist/train-images-idx3-ubyte  \n",
            "  inflating: cnn/fashion-mnist/train-labels-idx1-ubyte  \n",
            "  inflating: cnn/read-mnist.h        \n"
          ],
          "name": "stdout"
        }
      ]
    },
    {
      "cell_type": "code",
      "metadata": {
        "id": "BSs6-JI89_SV",
        "colab_type": "code",
        "colab": {}
      },
      "source": [
        "import os\n",
        "os.chdir(\"cnn\")"
      ],
      "execution_count": 0,
      "outputs": []
    },
    {
      "cell_type": "markdown",
      "metadata": {
        "id": "2HcKwwnt9_SY",
        "colab_type": "text"
      },
      "source": [
        "## <font style=\"color:green\">Compile</font>"
      ]
    },
    {
      "cell_type": "code",
      "metadata": {
        "id": "s-sClSaG9_SY",
        "colab_type": "code",
        "colab": {
          "base_uri": "https://localhost:8080/",
          "height": 646
        },
        "outputId": "1a3d59e1-6a60-434a-878b-9b4c0023c3e0"
      },
      "source": [
        "!cmake -DCMAKE_PREFIX_PATH=$PWD/../libtorch ."
      ],
      "execution_count": 7,
      "outputs": [
        {
          "output_type": "stream",
          "text": [
            "-- The C compiler identification is GNU 7.4.0\n",
            "-- The CXX compiler identification is GNU 7.4.0\n",
            "-- Check for working C compiler: /usr/bin/cc\n",
            "-- Check for working C compiler: /usr/bin/cc -- works\n",
            "-- Detecting C compiler ABI info\n",
            "-- Detecting C compiler ABI info - done\n",
            "-- Detecting C compile features\n",
            "-- Detecting C compile features - done\n",
            "-- Check for working CXX compiler: /usr/bin/c++\n",
            "-- Check for working CXX compiler: /usr/bin/c++ -- works\n",
            "-- Detecting CXX compiler ABI info\n",
            "-- Detecting CXX compiler ABI info - done\n",
            "-- Detecting CXX compile features\n",
            "-- Detecting CXX compile features - done\n",
            "-- Looking for pthread.h\n",
            "-- Looking for pthread.h - found\n",
            "-- Looking for pthread_create\n",
            "-- Looking for pthread_create - not found\n",
            "-- Looking for pthread_create in pthreads\n",
            "-- Looking for pthread_create in pthreads - not found\n",
            "-- Looking for pthread_create in pthread\n",
            "-- Looking for pthread_create in pthread - found\n",
            "-- Found Threads: TRUE  \n",
            "-- Found CUDA: /usr/local/cuda (found version \"10.0\") \n",
            "-- Caffe2: CUDA detected: 10.0\n",
            "-- Caffe2: CUDA nvcc is: /usr/local/cuda/bin/nvcc\n",
            "-- Caffe2: CUDA toolkit directory: /usr/local/cuda\n",
            "-- Caffe2: Header version is: 10.0\n",
            "-- Found CUDNN: /usr/lib/x86_64-linux-gnu/libcudnn.so  \n",
            "-- Found cuDNN: v7.6.5  (include: /usr/include, library: /usr/lib/x86_64-linux-gnu/libcudnn.so)\n",
            "-- Autodetected CUDA architecture(s):  6.0\n",
            "-- Added CUDA NVCC flags for: -gencode;arch=compute_60,code=sm_60\n",
            "-- Found torch: /content/libtorch/lib/libtorch.so  \n",
            "-- Found OpenCV: /usr (found version \"3.2.0\") \n",
            "-- Configuring done\n",
            "-- Generating done\n",
            "-- Build files have been written to: /content/cnn\n"
          ],
          "name": "stdout"
        }
      ]
    },
    {
      "cell_type": "code",
      "metadata": {
        "id": "pc5mEIsm9_Sb",
        "colab_type": "code",
        "colab": {
          "base_uri": "https://localhost:8080/",
          "height": 85
        },
        "outputId": "7d209441-23e4-4e74-96ee-28eae57e8ab8"
      },
      "source": [
        "!make"
      ],
      "execution_count": 17,
      "outputs": [
        {
          "output_type": "stream",
          "text": [
            "\u001b[35m\u001b[1mScanning dependencies of target CNN\u001b[0m\n",
            "[ 50%] \u001b[32mBuilding CXX object CMakeFiles/CNN.dir/CNN.cpp.o\u001b[0m\n",
            "[100%] \u001b[32m\u001b[1mLinking CXX executable CNN\u001b[0m\n",
            "[100%] Built target CNN\n"
          ],
          "name": "stdout"
        }
      ]
    },
    {
      "cell_type": "markdown",
      "metadata": {
        "id": "a4QFbTuL9_Se",
        "colab_type": "text"
      },
      "source": [
        "## <font style=\"color:green\">Run </font>"
      ]
    },
    {
      "cell_type": "code",
      "metadata": {
        "id": "KiOtZLH79_Sf",
        "colab_type": "code",
        "colab": {
          "base_uri": "https://localhost:8080/",
          "height": 1000
        },
        "outputId": "5cc6e599-811c-439a-f19e-b47a753de91f"
      },
      "source": [
        "!./CNN"
      ],
      "execution_count": 27,
      "outputs": [
        {
          "output_type": "stream",
          "text": [
            "Running on: CUDA\n",
            "Train Epoch: 1 60000/60000\tLoss: 0.00383456\tAcc: 0.6178\n",
            "\n",
            "Val Epoch: 1\tVal Loss: 0.00265889\tVal ACC:0.7489\n",
            "Train Epoch: 2 60000/60000\tLoss: 0.00240953\tAcc: 0.761533\n",
            "\n",
            "Val Epoch: 2\tVal Loss: 0.00235918\tVal ACC:0.7637\n",
            "Train Epoch: 3 60000/60000\tLoss: 0.00208635\tAcc: 0.79495\n",
            "\n",
            "Val Epoch: 3\tVal Loss: 0.00183845\tVal ACC:0.818\n",
            "Train Epoch: 4 60000/60000\tLoss: 0.00184256\tAcc: 0.819817\n",
            "\n",
            "Val Epoch: 4\tVal Loss: 0.00167301\tVal ACC:0.8371\n",
            "Train Epoch: 5 60000/60000\tLoss: 0.00167919\tAcc: 0.839083\n",
            "\n",
            "Val Epoch: 5\tVal Loss: 0.00171233\tVal ACC:0.8347\n",
            "Train Epoch: 6 60000/60000\tLoss: 0.0015539\tAcc: 0.849533\n",
            "\n",
            "Val Epoch: 6\tVal Loss: 0.0014753\tVal ACC:0.8609\n",
            "Train Epoch: 7 60000/60000\tLoss: 0.00143016\tAcc: 0.862783\n",
            "\n",
            "Val Epoch: 7\tVal Loss: 0.00141255\tVal ACC:0.8726\n",
            "Train Epoch: 8 60000/60000\tLoss: 0.00134766\tAcc: 0.87135\n",
            "\n",
            "Val Epoch: 8\tVal Loss: 0.00130941\tVal ACC:0.8801\n",
            "Train Epoch: 9 60000/60000\tLoss: 0.0012717\tAcc: 0.87825\n",
            "\n",
            "Val Epoch: 9\tVal Loss: 0.00146549\tVal ACC:0.8596\n",
            "Train Epoch: 10 60000/60000\tLoss: 0.00121746\tAcc: 0.884033\n",
            "\n",
            "Val Epoch: 10\tVal Loss: 0.00154211\tVal ACC:0.8372\n",
            "Train Epoch: 11 60000/60000\tLoss: 0.00115658\tAcc: 0.889667\n",
            "\n",
            "Val Epoch: 11\tVal Loss: 0.0011588\tVal ACC:0.8923\n",
            "Train Epoch: 12 60000/60000\tLoss: 0.0011074\tAcc: 0.894083\n",
            "\n",
            "Val Epoch: 12\tVal Loss: 0.00110491\tVal ACC:0.8961\n",
            "Train Epoch: 13 60000/60000\tLoss: 0.00105453\tAcc: 0.9001\n",
            "\n",
            "Val Epoch: 13\tVal Loss: 0.00108366\tVal ACC:0.8979\n",
            "Train Epoch: 14 60000/60000\tLoss: 0.00102387\tAcc: 0.9041\n",
            "\n",
            "Val Epoch: 14\tVal Loss: 0.00100929\tVal ACC:0.9053\n",
            "Train Epoch: 15 60000/60000\tLoss: 0.00100086\tAcc: 0.9058\n",
            "\n",
            "Val Epoch: 15\tVal Loss: 0.00106871\tVal ACC:0.8993\n",
            "Train Epoch: 16 60000/60000\tLoss: 0.000966144\tAcc: 0.90905\n",
            "\n",
            "Val Epoch: 16\tVal Loss: 0.00101043\tVal ACC:0.9061\n",
            "Train Epoch: 17 60000/60000\tLoss: 0.000937693\tAcc: 0.911933\n",
            "\n",
            "Val Epoch: 17\tVal Loss: 0.000990061\tVal ACC:0.9111\n",
            "Train Epoch: 18 60000/60000\tLoss: 0.000912435\tAcc: 0.9143\n",
            "\n",
            "Val Epoch: 18\tVal Loss: 0.000965707\tVal ACC:0.9101\n",
            "Train Epoch: 19 60000/60000\tLoss: 0.000882282\tAcc: 0.9163\n",
            "\n",
            "Val Epoch: 19\tVal Loss: 0.000937917\tVal ACC:0.9116\n",
            "Train Epoch: 20 60000/60000\tLoss: 0.000870059\tAcc: 0.917683\n",
            "\n",
            "***** TESTING on TEST IMAGE 0 *****\n",
            "GroundTruth: 7, Prediction: 7\n",
            "[ Variable[CUDALongType]{} ]\n",
            "Output Probabilities\n",
            "Class: 0 9.92145e-10\n",
            "Class: 1 1.49024e-08\n",
            "Class: 2 3.95397e-10\n",
            "Class: 3 6.37527e-08\n",
            "Class: 4 1.432e-08\n",
            "Class: 5 7.45895e-05\n",
            "Class: 6 6.85882e-10\n",
            "Class: 7 0.999857\n",
            "Class: 8 2.51434e-07\n",
            "Class: 9 6.83104e-05\n",
            "Outputs saved, Please checkout the output images\n",
            "***** TESTING on TEST IMAGE 1 *****\n",
            "GroundTruth: 2, Prediction: 2\n",
            "[ Variable[CUDALongType]{} ]\n",
            "Output Probabilities\n",
            "Class: 0 0.000349937\n",
            "Class: 1 8.40792e-07\n",
            "Class: 2 0.97467\n",
            "Class: 3 2.41181e-05\n",
            "Class: 4 0.0240544\n",
            "Class: 5 2.5724e-09\n",
            "Class: 6 0.000857343\n",
            "Class: 7 6.43904e-11\n",
            "Class: 8 4.35725e-05\n",
            "Class: 9 4.21541e-09\n",
            "Outputs saved, Please checkout the output images\n",
            "***** TESTING on TEST IMAGE 2 *****\n",
            "GroundTruth: 5, Prediction: 5\n",
            "[ Variable[CUDALongType]{} ]\n",
            "Output Probabilities\n",
            "Class: 0 4.77821e-10\n",
            "Class: 1 3.77774e-12\n",
            "Class: 2 6.26643e-12\n",
            "Class: 3 6.30121e-13\n",
            "Class: 4 8.7402e-14\n",
            "Class: 5 1\n",
            "Class: 6 8.9772e-12\n",
            "Class: 7 7.17851e-08\n",
            "Class: 8 2.70716e-10\n",
            "Class: 9 1.71508e-07\n",
            "Outputs saved, Please checkout the output images\n",
            "Val Epoch: 20\tVal Loss: 0.00100196\tVal ACC:0.9075\n"
          ],
          "name": "stdout"
        }
      ]
    },
    {
      "cell_type": "markdown",
      "metadata": {
        "id": "d8qkL4329_Si",
        "colab_type": "text"
      },
      "source": [
        "## <font style=\"color:blue\">Plot Loss and Accuracy Curves using Matplotlib</font>\n",
        "We will be using the matplotlib library to plot the accuracy and loss curves for visualizing how the loss and acuracy changed while training.\n",
        "\n",
        "We had saved the loss and accuracy for training and test data while training for each epoch. We just load the data from those files and put them in a list and finally plot them."
      ]
    },
    {
      "cell_type": "code",
      "metadata": {
        "id": "dY0t1s3D9_Sj",
        "colab_type": "code",
        "colab": {}
      },
      "source": [
        "with open(\"loss_acc_train.txt\",'r') as train_file:\n",
        "  train_data = train_file.readlines()\n",
        "with open(\"loss_acc_test.txt\",'r') as test_file:\n",
        "  test_data = test_file.readlines()\n"
      ],
      "execution_count": 0,
      "outputs": []
    },
    {
      "cell_type": "code",
      "metadata": {
        "id": "6m7ATFWP9_Sl",
        "colab_type": "code",
        "colab": {}
      },
      "source": [
        "train_loss_array = []\n",
        "train_acc_array = []\n",
        "for item in train_data:\n",
        "  loss,acc = item.strip().split(',')\n",
        "  train_loss_array.append(float(loss))\n",
        "  train_acc_array.append(float(acc))"
      ],
      "execution_count": 0,
      "outputs": []
    },
    {
      "cell_type": "code",
      "metadata": {
        "id": "Z_S8Wryw9_So",
        "colab_type": "code",
        "colab": {}
      },
      "source": [
        "test_loss_array = []\n",
        "test_acc_array = []\n",
        "for item in test_data:\n",
        "  loss,acc = item.strip().split(',')\n",
        "  test_loss_array.append(float(loss))\n",
        "  test_acc_array.append(float(acc))"
      ],
      "execution_count": 0,
      "outputs": []
    },
    {
      "cell_type": "code",
      "metadata": {
        "id": "CEEyxRah9_Sq",
        "colab_type": "code",
        "colab": {
          "base_uri": "https://localhost:8080/",
          "height": 54
        },
        "outputId": "fdab0279-260e-40e1-ea3e-82d76ef604d1"
      },
      "source": [
        "print(train_loss_array)"
      ],
      "execution_count": 31,
      "outputs": [
        {
          "output_type": "stream",
          "text": [
            "[0.003835, 0.00241, 0.002086, 0.001843, 0.001679, 0.001554, 0.00143, 0.001348, 0.001272, 0.001217, 0.001157, 0.001107, 0.001055, 0.001024, 0.001001, 0.000966, 0.000938, 0.000912, 0.000882, 0.00087]\n"
          ],
          "name": "stdout"
        }
      ]
    },
    {
      "cell_type": "code",
      "metadata": {
        "id": "_Aak824D9_Su",
        "colab_type": "code",
        "colab": {}
      },
      "source": [
        "import matplotlib.pyplot as plt\n",
        "%matplotlib inline"
      ],
      "execution_count": 0,
      "outputs": []
    },
    {
      "cell_type": "code",
      "metadata": {
        "id": "HHGiiA6h9_Sy",
        "colab_type": "code",
        "colab": {
          "base_uri": "https://localhost:8080/",
          "height": 281
        },
        "outputId": "c3e5b534-2072-48c3-a407-00ed9966eea6"
      },
      "source": [
        "plt.plot(train_loss_array,'b')\n",
        "plt.plot(test_loss_array,'r')\n",
        "plt.title(\"Loss Curves\");"
      ],
      "execution_count": 33,
      "outputs": [
        {
          "output_type": "display_data",
          "data": {
            "image/png": "[encoded data removed]",
            "text/plain": [
              "<Figure size 432x288 with 1 Axes>"
            ]
          },
          "metadata": {
            "tags": []
          }
        }
      ]
    },
    {
      "cell_type": "code",
      "metadata": {
        "id": "b0RtAaVQ9_S3",
        "colab_type": "code",
        "colab": {
          "base_uri": "https://localhost:8080/",
          "height": 281
        },
        "outputId": "f45108fb-f82c-4d55-b906-1d4483c055a9"
      },
      "source": [
        "plt.plot(train_acc_array,'b')\n",
        "plt.plot(test_acc_array,'r')\n",
        "plt.title(\"Accuracy Curves\");"
      ],
      "execution_count": 34,
      "outputs": [
        {
          "output_type": "display_data",
          "data": {
            "image/png": "[encoded data removed]",
            "text/plain": [
              "<Figure size 432x288 with 1 Axes>"
            ]
          },
          "metadata": {
            "tags": []
          }
        }
      ]
    },
    {
      "cell_type": "markdown",
      "metadata": {
        "id": "HQbDishc_fLs",
        "colab_type": "text"
      },
      "source": [
        "**Try running for more number of epochs and see if the accuracy increases? What about Validation Accuracy?**"
      ]
    },
    {
      "cell_type": "markdown",
      "metadata": {
        "id": "mX9L-n6Q9_S5",
        "colab_type": "text"
      },
      "source": [
        "References:\n",
        "- https://pytorch.org/tutorials/advanced/cpp_frontend.html\n",
        "- https://github.com/pytorch/examples/blob/master/cpp/custom-dataset/custom-dataset.cpp"
      ]
    }
  ]
}