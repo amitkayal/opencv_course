{
 "cells": [
  {
   "cell_type": "markdown",
   "metadata": {},
   "source": [
    "# <font style=\"color:blue\">Share Logs with TensorBoard.dev</font>\n",
    "\n",
    "We can share TensorBoard logs with others ( e.g. your manager at workplace or your advisor in university ). However, currently, it is supported only for scalars. ( e.g. Loss and accuracy plots )\n",
    "\n",
    "We hope this will be useful for many of you if Tensorflow adds more functionality to it later.\n",
    "\n",
    "### <font style=\"color:green\">How to use it?</font>\n",
    "\n",
    "Use the following command on the command line to share the TensorBoard logs. It will ask to authenticate your google account, then it will generate a link that can be shared with others.\n",
    "\n",
    "Note that logs is the folder you want to share.\n",
    "```\n",
    "$ tensorboard dev upload --logdir logs\n",
    "\n",
    "***** TensorBoard Uploader *****\n",
    "\n",
    "This TensorBoard will be visible to everyone. Do not upload sensitive data.\n",
    "\n",
    "Continue? (yes/NO)\n",
    "\n",
    "Please visit this URL to authorize this application: https://accounts.google.com/o/oauth2/auth...\n",
    "\n",
    "Uploading to TensorBoard.dev at https://tensorboard.dev/experiment/kMJ4YU0wSNG0IkjrluQ5Dg\n",
    "```\n",
    "\n",
    "<font style=\"color:red\">Note: Anyone can see the shared logs with the generated link. Do not upload sensitive data.</font>\n",
    "\n",
    "\n",
    "\n",
    "## [Go to Sample Logs from our experiment](https://tensorboard.dev/experiment/kMJ4YU0wSNG0IkjrluQ5Dg)\n"
   ]
  },
  {
   "cell_type": "markdown",
   "metadata": {},
   "source": [
    "# <font style=\"color:blue\">References</font>\n",
    "\n",
    "- https://tensorboard.dev/"
   ]
  }
 ],
 "metadata": {
  "kernelspec": {
   "display_name": "Python 3",
   "language": "python",
   "name": "python3"
  },
  "language_info": {
   "codemirror_mode": {
    "name": "ipython",
    "version": 3
   },
   "file_extension": ".py",
   "mimetype": "text/x-python",
   "name": "python",
   "nbconvert_exporter": "python",
   "pygments_lexer": "ipython3",
   "version": "3.7.6"
  }
 },
 "nbformat": 4,
 "nbformat_minor": 2
}
